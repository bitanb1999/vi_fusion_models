{
 "cells": [
  {
   "cell_type": "markdown",
   "metadata": {},
   "source": [
    "# Prototyping the Multi Input Model"
   ]
  },
  {
   "cell_type": "code",
   "execution_count": 1,
   "metadata": {},
   "outputs": [],
   "source": [
    "import tensorflow as tf"
   ]
  },
  {
   "cell_type": "markdown",
   "metadata": {},
   "source": [
    "### Houskeeping"
   ]
  },
  {
   "cell_type": "code",
   "execution_count": 2,
   "metadata": {},
   "outputs": [
    {
     "data": {
      "text/plain": [
       "'2.4.1'"
      ]
     },
     "execution_count": 2,
     "metadata": {},
     "output_type": "execute_result"
    }
   ],
   "source": [
    "tf.__version__\n"
   ]
  },
  {
   "cell_type": "code",
   "execution_count": 3,
   "metadata": {},
   "outputs": [],
   "source": [
    "\n",
    "import tensorflow as tf\n",
    "\n",
    "from tensorflow import keras\n",
    "from tensorflow.keras import layers\n",
    "from tensorflow.keras.layers.experimental import preprocessing"
   ]
  },
  {
   "cell_type": "code",
   "execution_count": 4,
   "metadata": {},
   "outputs": [],
   "source": [
    "# import the necessary packages\n",
    "from tensorflow.keras.layers.experimental.preprocessing import Normalization\n",
    "from tensorflow.keras.models import Sequential\n",
    "from tensorflow.keras.layers import BatchNormalization\n",
    "from tensorflow.keras.layers import Conv2D\n",
    "from tensorflow.keras.layers import MaxPooling2D\n",
    "from tensorflow.keras.layers import Activation\n",
    "from tensorflow.keras.layers import Dropout\n",
    "from tensorflow.keras.layers import Dense\n",
    "from tensorflow.keras.layers import Flatten\n",
    "from tensorflow.keras.layers import Input\n",
    "from tensorflow.keras.models import Model\n",
    "from tensorflow.keras.utils import plot_model\n",
    "from tensorflow.keras.layers import concatenate\n",
    "from tensorflow.keras.optimizers import Adam\n",
    "from tensorflow.keras.optimizers import RMSprop\n",
    "\n"
   ]
  },
  {
   "cell_type": "code",
   "execution_count": 5,
   "metadata": {},
   "outputs": [],
   "source": [
    "\n",
    "\n",
    "import glob\n",
    "import numpy as np\n",
    "# import csv\n",
    "from itertools import compress\n",
    "import rasterio\n",
    "import random\n",
    "import json\n",
    "import math\n",
    "import time\n",
    "import os\n",
    "import sys\n",
    "import pandas as pd\n",
    "# Self written functions\n",
    "from helpers.helpers_read_data import *\n",
    "# from helpers.helpers_models_tf2 import *\n",
    "# from helpers.helpers_performance_analytics import *\n",
    "\n"
   ]
  },
  {
   "cell_type": "markdown",
   "metadata": {},
   "source": [
    "## Adapting the reading of the satellite images"
   ]
  },
  {
   "cell_type": "code",
   "execution_count": 6,
   "metadata": {},
   "outputs": [],
   "source": [
    "images_path = '/Users/haui/Desktop/Kenya_Landsat7_1y_before_election_scale30'\n",
    "# images_path = '/Users/haui/Dropbox/Academia/Projects/voting_irregularities_local/vi_satellites_dev/data/landsat7_temp'\n",
    "ps_data_path = '/Users/haui/Dropbox/Academia/Projects/voting_irregularities_local/vi_satellites_dev/data/kenya13_vars.json'\n",
    "\n",
    "image_data, image_ps_id = read_stllt_images_and_names(images_path)"
   ]
  },
  {
   "cell_type": "code",
   "execution_count": 7,
   "metadata": {},
   "outputs": [
    {
     "data": {
      "text/plain": [
       "24599"
      ]
     },
     "execution_count": 7,
     "metadata": {},
     "output_type": "execute_result"
    }
   ],
   "source": [
    "len(image_data)"
   ]
  },
  {
   "cell_type": "code",
   "execution_count": 8,
   "metadata": {},
   "outputs": [],
   "source": [
    "# 1 Prepare data dictionaries for easy querying\n",
    "# Images dict at PS level\n",
    "images_data_dict = dict(zip(image_ps_id,image_data))"
   ]
  },
  {
   "cell_type": "code",
   "execution_count": 131,
   "metadata": {},
   "outputs": [
    {
     "name": "stderr",
     "output_type": "stream",
     "text": [
      "/Users/haui/anaconda3/envs/tf2_vi/lib/python3.9/site-packages/IPython/core/interactiveshell.py:3169: DtypeWarning: Columns (6,10) have mixed types.Specify dtype option on import or set low_memory=False.\n",
      "  has_raised = await self.run_ast_nodes(code_ast.body, cell_name,\n"
     ]
    }
   ],
   "source": [
    "# Let us use the same data as for the DNN\n",
    "raw_dat = pd.read_csv('../data/final-for-analysis.csv')\n",
    "\n",
    "dat = pd.concat([raw_dat['psid'],\n",
    "                 # turnout\n",
    "                 raw_dat[\"turnout_count\"], raw_dat[\"registered_voters\"], \n",
    "                 # ethnic frac (let's simply average...)\n",
    "                 raw_dat['ethnic_frac'],\n",
    "                 # other PS level data\n",
    "                 raw_dat['terrain_elevation'], raw_dat['terrain_ruggedness'],\n",
    "                   raw_dat['terrain_slope'],raw_dat['poverty_rate'], raw_dat['literacy_rate'],\n",
    "                   raw_dat['dependency_ratio'],raw_dat['skilled_birth_att'],\n",
    "                   raw_dat['night_lights'],raw_dat['county_name']], axis=1)\n",
    "\n",
    "\n",
    "dat_ps = dat.groupby('psid').agg({\n",
    "    # preparing for turnout\n",
    "    'turnout_count': 'sum',\n",
    "    'registered_voters': 'sum',\n",
    "    # assumption. but fair approx for now, since all streams have (sort of) same weight\n",
    "    'ethnic_frac': 'mean',\n",
    "    # Polling Station level anyway\n",
    "    'terrain_elevation': 'first',\n",
    "    'terrain_ruggedness': 'first',\n",
    "    'terrain_slope': 'first',\n",
    "    'poverty_rate': 'first',\n",
    "    'literacy_rate': 'first',\n",
    "    'dependency_ratio': 'first',\n",
    "    'skilled_birth_att': 'first',\n",
    "    'night_lights': 'first',\n",
    "    'county_name': 'first',\n",
    "})\n",
    "\n"
   ]
  },
  {
   "cell_type": "code",
   "execution_count": 132,
   "metadata": {},
   "outputs": [
    {
     "data": {
      "text/html": [
       "<div>\n",
       "<style scoped>\n",
       "    .dataframe tbody tr th:only-of-type {\n",
       "        vertical-align: middle;\n",
       "    }\n",
       "\n",
       "    .dataframe tbody tr th {\n",
       "        vertical-align: top;\n",
       "    }\n",
       "\n",
       "    .dataframe thead th {\n",
       "        text-align: right;\n",
       "    }\n",
       "</style>\n",
       "<table border=\"1\" class=\"dataframe\">\n",
       "  <thead>\n",
       "    <tr style=\"text-align: right;\">\n",
       "      <th></th>\n",
       "      <th>turnout_count</th>\n",
       "      <th>registered_voters</th>\n",
       "      <th>ethnic_frac</th>\n",
       "      <th>terrain_elevation</th>\n",
       "      <th>terrain_ruggedness</th>\n",
       "      <th>terrain_slope</th>\n",
       "      <th>poverty_rate</th>\n",
       "      <th>literacy_rate</th>\n",
       "      <th>dependency_ratio</th>\n",
       "      <th>skilled_birth_att</th>\n",
       "      <th>night_lights</th>\n",
       "      <th>county_name</th>\n",
       "    </tr>\n",
       "    <tr>\n",
       "      <th>psid</th>\n",
       "      <th></th>\n",
       "      <th></th>\n",
       "      <th></th>\n",
       "      <th></th>\n",
       "      <th></th>\n",
       "      <th></th>\n",
       "      <th></th>\n",
       "      <th></th>\n",
       "      <th></th>\n",
       "      <th></th>\n",
       "      <th></th>\n",
       "      <th></th>\n",
       "    </tr>\n",
       "  </thead>\n",
       "  <tbody>\n",
       "    <tr>\n",
       "      <th>001/001</th>\n",
       "      <td>3369.0</td>\n",
       "      <td>5267.0</td>\n",
       "      <td>0.559003</td>\n",
       "      <td>-2.196058</td>\n",
       "      <td>-0.752885</td>\n",
       "      <td>-0.756035</td>\n",
       "      <td>-2.109904</td>\n",
       "      <td>6.377350</td>\n",
       "      <td>-2.322930</td>\n",
       "      <td>0.612534</td>\n",
       "      <td>3.677581</td>\n",
       "      <td>MOMBASA</td>\n",
       "    </tr>\n",
       "    <tr>\n",
       "      <th>001/002</th>\n",
       "      <td>2354.0</td>\n",
       "      <td>3489.0</td>\n",
       "      <td>0.662413</td>\n",
       "      <td>-2.205743</td>\n",
       "      <td>-0.794555</td>\n",
       "      <td>-0.788982</td>\n",
       "      <td>-2.179095</td>\n",
       "      <td>6.078287</td>\n",
       "      <td>-2.455718</td>\n",
       "      <td>0.615652</td>\n",
       "      <td>3.662392</td>\n",
       "      <td>MOMBASA</td>\n",
       "    </tr>\n",
       "    <tr>\n",
       "      <th>001/003</th>\n",
       "      <td>1295.0</td>\n",
       "      <td>2277.0</td>\n",
       "      <td>0.654413</td>\n",
       "      <td>-2.207539</td>\n",
       "      <td>-0.737618</td>\n",
       "      <td>-0.740169</td>\n",
       "      <td>-2.209238</td>\n",
       "      <td>6.424049</td>\n",
       "      <td>-2.455718</td>\n",
       "      <td>0.614910</td>\n",
       "      <td>3.678592</td>\n",
       "      <td>MOMBASA</td>\n",
       "    </tr>\n",
       "    <tr>\n",
       "      <th>001/004</th>\n",
       "      <td>1751.0</td>\n",
       "      <td>2337.0</td>\n",
       "      <td>0.556684</td>\n",
       "      <td>-2.203868</td>\n",
       "      <td>-0.768254</td>\n",
       "      <td>-0.770896</td>\n",
       "      <td>-2.199451</td>\n",
       "      <td>6.468515</td>\n",
       "      <td>-2.455718</td>\n",
       "      <td>0.614704</td>\n",
       "      <td>3.686981</td>\n",
       "      <td>MOMBASA</td>\n",
       "    </tr>\n",
       "    <tr>\n",
       "      <th>001/005</th>\n",
       "      <td>1070.0</td>\n",
       "      <td>1448.0</td>\n",
       "      <td>0.500205</td>\n",
       "      <td>-2.203344</td>\n",
       "      <td>-0.669685</td>\n",
       "      <td>-0.670843</td>\n",
       "      <td>-2.201605</td>\n",
       "      <td>6.475418</td>\n",
       "      <td>-2.455718</td>\n",
       "      <td>0.613048</td>\n",
       "      <td>3.692524</td>\n",
       "      <td>MOMBASA</td>\n",
       "    </tr>\n",
       "  </tbody>\n",
       "</table>\n",
       "</div>"
      ],
      "text/plain": [
       "         turnout_count  registered_voters  ethnic_frac  terrain_elevation  \\\n",
       "psid                                                                        \n",
       "001/001         3369.0             5267.0     0.559003          -2.196058   \n",
       "001/002         2354.0             3489.0     0.662413          -2.205743   \n",
       "001/003         1295.0             2277.0     0.654413          -2.207539   \n",
       "001/004         1751.0             2337.0     0.556684          -2.203868   \n",
       "001/005         1070.0             1448.0     0.500205          -2.203344   \n",
       "\n",
       "         terrain_ruggedness  terrain_slope  poverty_rate  literacy_rate  \\\n",
       "psid                                                                      \n",
       "001/001           -0.752885      -0.756035     -2.109904       6.377350   \n",
       "001/002           -0.794555      -0.788982     -2.179095       6.078287   \n",
       "001/003           -0.737618      -0.740169     -2.209238       6.424049   \n",
       "001/004           -0.768254      -0.770896     -2.199451       6.468515   \n",
       "001/005           -0.669685      -0.670843     -2.201605       6.475418   \n",
       "\n",
       "         dependency_ratio  skilled_birth_att  night_lights county_name  \n",
       "psid                                                                    \n",
       "001/001         -2.322930           0.612534      3.677581     MOMBASA  \n",
       "001/002         -2.455718           0.615652      3.662392     MOMBASA  \n",
       "001/003         -2.455718           0.614910      3.678592     MOMBASA  \n",
       "001/004         -2.455718           0.614704      3.686981     MOMBASA  \n",
       "001/005         -2.455718           0.613048      3.692524     MOMBASA  "
      ]
     },
     "execution_count": 132,
     "metadata": {},
     "output_type": "execute_result"
    }
   ],
   "source": [
    "dat_ps.head()\n",
    "# dat_ps.tail() TODO there is something weird happening"
   ]
  },
  {
   "cell_type": "markdown",
   "metadata": {},
   "source": [
    "#### Clean data "
   ]
  },
  {
   "cell_type": "code",
   "execution_count": 133,
   "metadata": {},
   "outputs": [],
   "source": [
    "# turn rown names from grouping into own column\n",
    "dat_ps.index.name = 'psid'\n",
    "dat_ps.reset_index(inplace=True)\n",
    "# replace the / for a - to be in sync with the image names\n",
    "dat_ps['psid'] = dat_ps['psid'].str.replace('/','-')"
   ]
  },
  {
   "cell_type": "code",
   "execution_count": 134,
   "metadata": {},
   "outputs": [],
   "source": [
    "# calculate and correct turnout\n",
    "dat_ps['registered_voters'] = dat_ps['registered_voters'].replace(0, np.NaN)\n",
    "dat_ps['turnout'] = dat_ps[\"turnout_count\"]/dat_ps['registered_voters']\n",
    "dat_ps['turnout'].values[dat_ps['turnout'] > 1] = np.NaN\n",
    "# drop NaNs\n",
    "dat_ps = dat_ps.dropna()\n",
    "# turn into dictionary for polling stations\n",
    "# ps_data_dict = dict(zip(list(dat_ps['psid']), list(dat_ps['turnout'])))\n",
    "# \n",
    "dat_ps = pd.get_dummies(dat_ps, columns=['county_name'], prefix='', prefix_sep='')\n",
    "\n"
   ]
  },
  {
   "cell_type": "code",
   "execution_count": 135,
   "metadata": {},
   "outputs": [
    {
     "data": {
      "text/plain": [
       "(22008, 60)"
      ]
     },
     "execution_count": 135,
     "metadata": {},
     "output_type": "execute_result"
    }
   ],
   "source": [
    "dat_ps.shape\n"
   ]
  },
  {
   "cell_type": "code",
   "execution_count": 136,
   "metadata": {},
   "outputs": [
    {
     "data": {
      "text/plain": [
       "0.01824817518248175"
      ]
     },
     "execution_count": 136,
     "metadata": {},
     "output_type": "execute_result"
    }
   ],
   "source": [
    "# # Data Checks\n",
    "dat_ps.head()\n",
    "max(dat_ps['turnout'])\n",
    "min(dat_ps['turnout'])"
   ]
  },
  {
   "cell_type": "markdown",
   "metadata": {},
   "source": [
    "#### Make sure each data point is only covered once and that we have data for it\n",
    "* In the polling station data check for double entries \n",
    "* Do we have data for the sat image?\n"
   ]
  },
  {
   "cell_type": "code",
   "execution_count": 137,
   "metadata": {},
   "outputs": [],
   "source": [
    "unique_ps_id = list(set(list(dat_ps['psid'])))\n",
    "# assert each id occurs only once\n",
    "assert len(unique_ps_id)==dat_ps.shape[0]\n",
    "\n",
    "ps_id_at_ps_level = list(dat_ps['psid'])\n",
    "# turnout_at_ps_level = list(dat_ps['turnout'])\n"
   ]
  },
  {
   "cell_type": "markdown",
   "metadata": {},
   "source": [
    "## Split up the three data sources -- in the correct order\n",
    "* ID vars are in: ps_id_at_ps_level_wona\n",
    "* images are in: images_at_ps_level_wona\n",
    "* outcome var is in: turnout_at_ps_level_wona\n",
    "* further EVs are in: dat_ps_features_wona\n"
   ]
  },
  {
   "cell_type": "code",
   "execution_count": 138,
   "metadata": {},
   "outputs": [],
   "source": [
    "# This creates a mask to check for which satellite images we actually have data. \n",
    "# Returns \n",
    "# a) a list with the photos of the polling stations for which there are data \n",
    "# b) And a mask that you can use to select later on\n",
    "images_at_ps_level_wona = []\n",
    "mask = [True]*len(ps_id_at_ps_level)"
   ]
  },
  {
   "cell_type": "code",
   "execution_count": 139,
   "metadata": {},
   "outputs": [],
   "source": [
    "# this is a name query in the order of the ps_ids in the dat_ps data set\n",
    "# in result, the sat images are queried from the images_data_dict dictionary in the same order as dat_ps\n",
    "for i in range(len(ps_id_at_ps_level)):\n",
    "    try:\n",
    "        images_at_ps_level_wona.append(images_data_dict[ps_id_at_ps_level[i]])\n",
    "    except:\n",
    "        mask[i] = False"
   ]
  },
  {
   "cell_type": "code",
   "execution_count": 140,
   "metadata": {},
   "outputs": [],
   "source": [
    "# keeps those data for which we also have a sat image\n",
    "dat_ps_wona = dat_ps[mask]"
   ]
  },
  {
   "cell_type": "code",
   "execution_count": 141,
   "metadata": {},
   "outputs": [
    {
     "name": "stdout",
     "output_type": "stream",
     "text": [
      "We do not have data for 6 sat images. \n",
      "\n"
     ]
    }
   ],
   "source": [
    "print('We do not have data for',len(ps_id_at_ps_level) - len(images_at_ps_level_wona),'sat images. \\n')"
   ]
  },
  {
   "cell_type": "code",
   "execution_count": 142,
   "metadata": {},
   "outputs": [],
   "source": [
    "# this generates the data we need for the model\n",
    "dat_ps_features_wona = dat_ps_wona.copy()\n",
    "turnout_at_ps_level_wona = list(dat_ps_features_wona.pop('turnout'))\n",
    "ps_id_at_ps_level_wona = list(dat_ps_features_wona.pop('psid'))"
   ]
  },
  {
   "cell_type": "markdown",
   "metadata": {},
   "source": [
    "Now: also kick out the data that would give away the turnout"
   ]
  },
  {
   "cell_type": "code",
   "execution_count": 143,
   "metadata": {},
   "outputs": [],
   "source": [
    "turnout_count_at_ps_level_wona = list(dat_ps_features_wona.pop('turnout_count'))\n",
    "registered_voters_at_ps_level_wona = list(dat_ps_features_wona.pop('registered_voters'))\n"
   ]
  },
  {
   "cell_type": "code",
   "execution_count": 144,
   "metadata": {},
   "outputs": [],
   "source": [
    "assert (dat_ps_features_wona.shape[0] == len(ps_id_at_ps_level_wona) == \n",
    "        len(images_at_ps_level_wona) == len(turnout_at_ps_level_wona)), 'Something went wrong in the data generation. There are different lengths'"
   ]
  },
  {
   "cell_type": "markdown",
   "metadata": {},
   "source": [
    "### Splitting the train test set"
   ]
  },
  {
   "cell_type": "code",
   "execution_count": 145,
   "metadata": {},
   "outputs": [],
   "source": [
    "# defines the new random order\n",
    "new_order = random.sample(range(len(turnout_at_ps_level_wona)), len(turnout_at_ps_level_wona))"
   ]
  },
  {
   "cell_type": "code",
   "execution_count": 146,
   "metadata": {},
   "outputs": [],
   "source": [
    "# defines train-test-val size\n",
    "observed_ps_set_size = len(turnout_at_ps_level_wona)\n",
    "testval_set_size = math.floor(.1*observed_ps_set_size)\n",
    "# train_set_size = observed_ps_set_size - 2*testval_set_size\n",
    "train_set_size = observed_ps_set_size - testval_set_size"
   ]
  },
  {
   "cell_type": "code",
   "execution_count": 147,
   "metadata": {},
   "outputs": [],
   "source": [
    "# reshape images\n",
    "image_data_all_bands = np.stack(images_at_ps_level_wona, axis = 0)"
   ]
  },
  {
   "cell_type": "code",
   "execution_count": 148,
   "metadata": {},
   "outputs": [],
   "source": [
    "image_data_all_bands = image_data_all_bands.reshape((observed_ps_set_size, 96, 96, 7))"
   ]
  },
  {
   "cell_type": "markdown",
   "metadata": {},
   "source": [
    "#### train val test sat images"
   ]
  },
  {
   "cell_type": "code",
   "execution_count": 149,
   "metadata": {},
   "outputs": [],
   "source": [
    "train_images = image_data_all_bands[new_order[0:train_set_size],:,:,:].reshape(train_set_size, 96, 96, 7)\n",
    "# split in this way because validation taken in on the fly in model.fit()\n",
    "# val_images = image_data_all_bands[new_order[train_set_size:(train_set_size+testval_set_size)],:,:,:].reshape((testval_set_size, 96, 96, 7))\n",
    "# test_images = image_data_all_bands[new_order[(train_set_size+testval_set_size):observed_ps_set_size],:,:,:].reshape((testval_set_size, 96, 96, 7))\n",
    "test_images = image_data_all_bands[new_order[train_set_size:observed_ps_set_size],:,:,:].reshape((testval_set_size, 96, 96, 7))"
   ]
  },
  {
   "cell_type": "markdown",
   "metadata": {},
   "source": [
    "#### train val test ps data"
   ]
  },
  {
   "cell_type": "code",
   "execution_count": 150,
   "metadata": {},
   "outputs": [],
   "source": [
    "train_ps_data = np.array(dat_ps_features_wona)[new_order[0:train_set_size],:]\n",
    "# val_ps_data = np.array(dat_ps_features_wona)[new_order[train_set_size:(train_set_size+testval_set_size)],:]\n",
    "# test_ps_data = np.array(dat_ps_features_wona)[new_order[(train_set_size+testval_set_size):observed_ps_set_size],:]\n",
    "test_ps_data = np.array(dat_ps_features_wona)[new_order[train_set_size:observed_ps_set_size],:]"
   ]
  },
  {
   "cell_type": "code",
   "execution_count": 151,
   "metadata": {},
   "outputs": [],
   "source": [
    "# normalise the data\n",
    "normalizer = Normalization()\n",
    "normalizer.adapt(np.array(train_ps_data))"
   ]
  },
  {
   "cell_type": "code",
   "execution_count": 152,
   "metadata": {},
   "outputs": [],
   "source": [
    "train_ps_data_normalized =normalizer(train_ps_data)\n",
    "# val_ps_data_normalized =normalizer(val_ps_data)\n",
    "# test_ps_data_normalized =normalizer(test_ps_data)"
   ]
  },
  {
   "cell_type": "markdown",
   "metadata": {},
   "source": [
    "#### train val test labels"
   ]
  },
  {
   "cell_type": "code",
   "execution_count": 153,
   "metadata": {},
   "outputs": [],
   "source": [
    "train_labels = np.array([turnout_at_ps_level_wona[i] for i in new_order[0:train_set_size]])\n",
    "# val_labels = [turnout_at_ps_level_wona[i] for i in new_order[train_set_size:(train_set_size+testval_set_size)]]\n",
    "# test_labels = np.array([turnout_at_ps_level_wona[i] for i in new_order[(train_set_size+testval_set_size):observed_ps_set_size]])\n",
    "test_labels = np.array([turnout_at_ps_level_wona[i] for i in new_order[train_set_size:observed_ps_set_size]])"
   ]
  },
  {
   "cell_type": "code",
   "execution_count": 154,
   "metadata": {},
   "outputs": [],
   "source": [
    "# Assert labels and data have same length\n",
    "assert(train_ps_data.shape[0] == len(train_labels))\n",
    "# assert(val_ps_data.shape[0] == len(val_labels))\n",
    "assert(test_ps_data.shape[0] == len(test_labels))"
   ]
  },
  {
   "cell_type": "code",
   "execution_count": 156,
   "metadata": {},
   "outputs": [],
   "source": [
    "# save the ids\n",
    "# e.g. to write the train_val_test split as json for eventual later use\n",
    "train_ps_id = [ps_id_at_ps_level_wona[i] for i in new_order[0:train_set_size]]\n",
    "# val_ps_id = [ps_id_at_ps_level_wona[i] for i in new_order[train_set_size:(train_set_size+testval_set_size)]]\n",
    "test_ps_id = [ps_id_at_ps_level_wona[i] for i in new_order[train_set_size:observed_ps_set_size]]"
   ]
  },
  {
   "cell_type": "markdown",
   "metadata": {},
   "source": [
    "# Define the Model"
   ]
  },
  {
   "cell_type": "markdown",
   "metadata": {},
   "source": [
    "## Toy Model for Testing"
   ]
  },
  {
   "cell_type": "code",
   "execution_count": 157,
   "metadata": {},
   "outputs": [],
   "source": [
    "# TODO batch normalisation\n",
    "inputs_img = keras.Input(shape=(96,96,7))\n",
    "x = Conv2D(32, kernel_size=(3,3),padding='same', activation='relu')(inputs_img)\n",
    "x = MaxPooling2D(pool_size=(2, 2))(x)\n",
    "x = BatchNormalization(axis=-1)(x) \n",
    "x = Conv2D(64, kernel_size=(3,3),padding='same', activation='relu')(x)\n",
    "x = MaxPooling2D(pool_size=(2, 2))(x)\n",
    "x = BatchNormalization(axis=-1)(x) \n",
    "# x = Conv2D(128, kernel_size=(3,3),padding='same', activation='relu')(x)\n",
    "# x = MaxPooling2D(pool_size=(2, 2))(x)\n",
    "x = Conv2D(256, kernel_size=(3,3),padding='same', activation='relu')(x)\n",
    "x = MaxPooling2D(pool_size=(2, 2))(x)\n",
    "x = BatchNormalization(axis=-1)(x) \n",
    "x = Flatten()(x)\n",
    "x = Dense(8, activation = 'relu')(x)\n",
    "\n"
   ]
  },
  {
   "cell_type": "code",
   "execution_count": 158,
   "metadata": {},
   "outputs": [],
   "source": [
    "inputs_ps_dat = keras.Input(shape=(58,))\n",
    "y = Dense(64, activation=\"relu\")(inputs_ps_dat)\n",
    "y = Dense(32, activation=\"relu\")(y)\n",
    "y = Dense(8, activation=\"linear\")(y)"
   ]
  },
  {
   "cell_type": "code",
   "execution_count": 159,
   "metadata": {},
   "outputs": [],
   "source": [
    "combined_input = concatenate([x, y])"
   ]
  },
  {
   "cell_type": "code",
   "execution_count": 160,
   "metadata": {},
   "outputs": [],
   "source": [
    "# trial\n",
    "z = Dense(4, activation=\"relu\")(combined_input)\n",
    "z = Dense(1, activation=\"sigmoid\")(z)\n",
    "toy_model = Model(inputs=[inputs_img, inputs_ps_dat], outputs=z)"
   ]
  },
  {
   "cell_type": "code",
   "execution_count": 161,
   "metadata": {},
   "outputs": [
    {
     "name": "stdout",
     "output_type": "stream",
     "text": [
      "Model: \"model_5\"\n",
      "__________________________________________________________________________________________________\n",
      "Layer (type)                    Output Shape         Param #     Connected to                     \n",
      "==================================================================================================\n",
      "input_10 (InputLayer)           [(None, 96, 96, 7)]  0                                            \n",
      "__________________________________________________________________________________________________\n",
      "conv2d_16 (Conv2D)              (None, 96, 96, 32)   2048        input_10[0][0]                   \n",
      "__________________________________________________________________________________________________\n",
      "max_pooling2d_16 (MaxPooling2D) (None, 48, 48, 32)   0           conv2d_16[0][0]                  \n",
      "__________________________________________________________________________________________________\n",
      "batch_normalization_16 (BatchNo (None, 48, 48, 32)   128         max_pooling2d_16[0][0]           \n",
      "__________________________________________________________________________________________________\n",
      "conv2d_17 (Conv2D)              (None, 48, 48, 64)   18496       batch_normalization_16[0][0]     \n",
      "__________________________________________________________________________________________________\n",
      "max_pooling2d_17 (MaxPooling2D) (None, 24, 24, 64)   0           conv2d_17[0][0]                  \n",
      "__________________________________________________________________________________________________\n",
      "batch_normalization_17 (BatchNo (None, 24, 24, 64)   256         max_pooling2d_17[0][0]           \n",
      "__________________________________________________________________________________________________\n",
      "conv2d_18 (Conv2D)              (None, 24, 24, 256)  147712      batch_normalization_17[0][0]     \n",
      "__________________________________________________________________________________________________\n",
      "max_pooling2d_18 (MaxPooling2D) (None, 12, 12, 256)  0           conv2d_18[0][0]                  \n",
      "__________________________________________________________________________________________________\n",
      "input_11 (InputLayer)           [(None, 58)]         0                                            \n",
      "__________________________________________________________________________________________________\n",
      "batch_normalization_18 (BatchNo (None, 12, 12, 256)  1024        max_pooling2d_18[0][0]           \n",
      "__________________________________________________________________________________________________\n",
      "dense_33 (Dense)                (None, 64)           3776        input_11[0][0]                   \n",
      "__________________________________________________________________________________________________\n",
      "flatten_4 (Flatten)             (None, 36864)        0           batch_normalization_18[0][0]     \n",
      "__________________________________________________________________________________________________\n",
      "dense_34 (Dense)                (None, 32)           2080        dense_33[0][0]                   \n",
      "__________________________________________________________________________________________________\n",
      "dense_32 (Dense)                (None, 8)            294920      flatten_4[0][0]                  \n",
      "__________________________________________________________________________________________________\n",
      "dense_35 (Dense)                (None, 8)            264         dense_34[0][0]                   \n",
      "__________________________________________________________________________________________________\n",
      "concatenate_5 (Concatenate)     (None, 16)           0           dense_32[0][0]                   \n",
      "                                                                 dense_35[0][0]                   \n",
      "__________________________________________________________________________________________________\n",
      "dense_36 (Dense)                (None, 4)            68          concatenate_5[0][0]              \n",
      "__________________________________________________________________________________________________\n",
      "dense_37 (Dense)                (None, 1)            5           dense_36[0][0]                   \n",
      "==================================================================================================\n",
      "Total params: 470,777\n",
      "Trainable params: 470,073\n",
      "Non-trainable params: 704\n",
      "__________________________________________________________________________________________________\n",
      "None\n"
     ]
    }
   ],
   "source": [
    "print(toy_model.summary())"
   ]
  },
  {
   "cell_type": "markdown",
   "metadata": {},
   "source": [
    "## Deployment"
   ]
  },
  {
   "cell_type": "markdown",
   "metadata": {},
   "source": [
    "## Images Strand\n"
   ]
  },
  {
   "cell_type": "code",
   "execution_count": 162,
   "metadata": {},
   "outputs": [],
   "source": [
    "# Deep Model\n",
    "\n",
    "inputs_img = keras.Input(shape=(96,96,7))\n",
    "# Conv Block 1\n",
    "x = Conv2D(64, kernel_size=(3,3),padding='same', activation='relu')(inputs_img)\n",
    "x = MaxPooling2D(pool_size=(2, 2))(x)\n",
    "x = BatchNormalization(axis=-1)(x) \n",
    "# Conv Block 2\n",
    "x = Conv2D(128, kernel_size=(3,3),padding='same', activation='relu')(x)\n",
    "x = MaxPooling2D(pool_size=(2, 2))(x)\n",
    "x = BatchNormalization(axis=-1)(x)\n",
    "# x = Conv2D(128, kernel_size=(3,3),padding='same', activation='relu')(x)\n",
    "# x = MaxPooling2D(pool_size=(2, 2))(x)\n",
    "# Conv Block 3\n",
    "x = Conv2D(256, kernel_size=(3,3),padding='same', activation='relu')(x)\n",
    "x = MaxPooling2D(pool_size=(2, 2))(x)\n",
    "x = BatchNormalization(axis=-1)(x)\n",
    "# Conv Block 4\n",
    "x = Conv2D(256, kernel_size=(3,3),padding='same', activation='relu')(x)\n",
    "x = MaxPooling2D(pool_size=(2, 2))(x)\n",
    "x = BatchNormalization(axis=-1)(x)\n",
    "# Conv Block 5\n",
    "x = Conv2D(512, kernel_size=(3,3),padding='same', activation='relu')(x)\n",
    "x = MaxPooling2D(pool_size=(2, 2))(x)\n",
    "x = BatchNormalization(axis=-1)(x)\n",
    "# Flatten and dense\n",
    "x = Flatten()(x)\n",
    "# x = Dense(16)(x)\n",
    "# x = Activation(\"relu\")(x)\n",
    "# x = BatchNormalization(axis=-1)(x)\n",
    "# x = Dropout(0.3)(x)\n",
    "x = Dense(64, activation = 'relu')(x)\n"
   ]
  },
  {
   "cell_type": "code",
   "execution_count": 163,
   "metadata": {},
   "outputs": [],
   "source": [
    "# model_img_data = Model(inputs_img, x)\n",
    "# print(model_img_data.summary())"
   ]
  },
  {
   "cell_type": "code",
   "execution_count": 164,
   "metadata": {},
   "outputs": [],
   "source": [
    "# model_img_data = Model(inputs, x)\n",
    "# print(model_img_data.summary())\n",
    "# plot_model(model_img_data)\n",
    "# TODO"
   ]
  },
  {
   "cell_type": "markdown",
   "metadata": {},
   "source": [
    "\n",
    "## Data Strand\n"
   ]
  },
  {
   "cell_type": "code",
   "execution_count": 165,
   "metadata": {},
   "outputs": [],
   "source": [
    "inputs_ps_dat = keras.Input(shape=(56,))\n",
    "y = Dense(64, activation=\"relu\")(inputs_ps_dat)\n",
    "y = Dense(64, activation=\"relu\")(y)\n",
    "y = Dense(32, activation=\"linear\")(y)"
   ]
  },
  {
   "cell_type": "code",
   "execution_count": 166,
   "metadata": {},
   "outputs": [],
   "source": [
    "# model_ps_data = Model(inputs, y)\n",
    "# print(model_ps_data.summary())"
   ]
  },
  {
   "cell_type": "markdown",
   "metadata": {},
   "source": [
    "\n",
    "## Join the Strands \n"
   ]
  },
  {
   "cell_type": "code",
   "execution_count": 167,
   "metadata": {},
   "outputs": [],
   "source": [
    "combined_input = concatenate([x, y])"
   ]
  },
  {
   "cell_type": "code",
   "execution_count": 168,
   "metadata": {},
   "outputs": [],
   "source": [
    "z = Dense(128, activation=\"relu\")(combined_input)\n",
    "z = Dropout(0.4)(z)\n",
    "z = Dense(32, activation=\"relu\")(combined_input)\n",
    "z = Dense(1, activation=\"sigmoid\")(z)\n",
    "model = Model(inputs=[inputs_img, inputs_ps_dat], outputs=z)"
   ]
  },
  {
   "cell_type": "code",
   "execution_count": 170,
   "metadata": {},
   "outputs": [
    {
     "name": "stdout",
     "output_type": "stream",
     "text": [
      "Model: \"model_6\"\n",
      "__________________________________________________________________________________________________\n",
      "Layer (type)                    Output Shape         Param #     Connected to                     \n",
      "==================================================================================================\n",
      "input_12 (InputLayer)           [(None, 96, 96, 7)]  0                                            \n",
      "__________________________________________________________________________________________________\n",
      "conv2d_19 (Conv2D)              (None, 96, 96, 64)   4096        input_12[0][0]                   \n",
      "__________________________________________________________________________________________________\n",
      "max_pooling2d_19 (MaxPooling2D) (None, 48, 48, 64)   0           conv2d_19[0][0]                  \n",
      "__________________________________________________________________________________________________\n",
      "batch_normalization_19 (BatchNo (None, 48, 48, 64)   256         max_pooling2d_19[0][0]           \n",
      "__________________________________________________________________________________________________\n",
      "conv2d_20 (Conv2D)              (None, 48, 48, 128)  73856       batch_normalization_19[0][0]     \n",
      "__________________________________________________________________________________________________\n",
      "max_pooling2d_20 (MaxPooling2D) (None, 24, 24, 128)  0           conv2d_20[0][0]                  \n",
      "__________________________________________________________________________________________________\n",
      "batch_normalization_20 (BatchNo (None, 24, 24, 128)  512         max_pooling2d_20[0][0]           \n",
      "__________________________________________________________________________________________________\n",
      "conv2d_21 (Conv2D)              (None, 24, 24, 256)  295168      batch_normalization_20[0][0]     \n",
      "__________________________________________________________________________________________________\n",
      "max_pooling2d_21 (MaxPooling2D) (None, 12, 12, 256)  0           conv2d_21[0][0]                  \n",
      "__________________________________________________________________________________________________\n",
      "batch_normalization_21 (BatchNo (None, 12, 12, 256)  1024        max_pooling2d_21[0][0]           \n",
      "__________________________________________________________________________________________________\n",
      "conv2d_22 (Conv2D)              (None, 12, 12, 256)  590080      batch_normalization_21[0][0]     \n",
      "__________________________________________________________________________________________________\n",
      "max_pooling2d_22 (MaxPooling2D) (None, 6, 6, 256)    0           conv2d_22[0][0]                  \n",
      "__________________________________________________________________________________________________\n",
      "batch_normalization_22 (BatchNo (None, 6, 6, 256)    1024        max_pooling2d_22[0][0]           \n",
      "__________________________________________________________________________________________________\n",
      "conv2d_23 (Conv2D)              (None, 6, 6, 512)    1180160     batch_normalization_22[0][0]     \n",
      "__________________________________________________________________________________________________\n",
      "max_pooling2d_23 (MaxPooling2D) (None, 3, 3, 512)    0           conv2d_23[0][0]                  \n",
      "__________________________________________________________________________________________________\n",
      "input_13 (InputLayer)           [(None, 56)]         0                                            \n",
      "__________________________________________________________________________________________________\n",
      "batch_normalization_23 (BatchNo (None, 3, 3, 512)    2048        max_pooling2d_23[0][0]           \n",
      "__________________________________________________________________________________________________\n",
      "dense_39 (Dense)                (None, 64)           3648        input_13[0][0]                   \n",
      "__________________________________________________________________________________________________\n",
      "flatten_5 (Flatten)             (None, 4608)         0           batch_normalization_23[0][0]     \n",
      "__________________________________________________________________________________________________\n",
      "dense_40 (Dense)                (None, 64)           4160        dense_39[0][0]                   \n",
      "__________________________________________________________________________________________________\n",
      "dense_38 (Dense)                (None, 64)           294976      flatten_5[0][0]                  \n",
      "__________________________________________________________________________________________________\n",
      "dense_41 (Dense)                (None, 32)           2080        dense_40[0][0]                   \n",
      "__________________________________________________________________________________________________\n",
      "concatenate_6 (Concatenate)     (None, 96)           0           dense_38[0][0]                   \n",
      "                                                                 dense_41[0][0]                   \n",
      "__________________________________________________________________________________________________\n",
      "dense_43 (Dense)                (None, 32)           3104        concatenate_6[0][0]              \n",
      "__________________________________________________________________________________________________\n",
      "dense_44 (Dense)                (None, 1)            33          dense_43[0][0]                   \n",
      "==================================================================================================\n",
      "Total params: 2,456,225\n",
      "Trainable params: 2,453,793\n",
      "Non-trainable params: 2,432\n",
      "__________________________________________________________________________________________________\n",
      "None\n"
     ]
    }
   ],
   "source": [
    "print(model.summary())\n",
    "# plot_model(model)"
   ]
  },
  {
   "cell_type": "markdown",
   "metadata": {},
   "source": [
    "# Running"
   ]
  },
  {
   "cell_type": "code",
   "execution_count": 171,
   "metadata": {},
   "outputs": [],
   "source": [
    "# switch for local trial runs \n",
    "# model = toy_model"
   ]
  },
  {
   "cell_type": "markdown",
   "metadata": {},
   "source": [
    "\n",
    "## Compile\n",
    "\n"
   ]
  },
  {
   "cell_type": "code",
   "execution_count": 172,
   "metadata": {},
   "outputs": [],
   "source": [
    "# set paths\n",
    "best_model_path = '/Users/haui/Dropbox/Academia/Projects/voting_irregularities_local/vi_satellites_dev/code_sandbox_ca/best_models/temp_multi_input.h5'\n",
    "log_dir = 'logs/'"
   ]
  },
  {
   "cell_type": "code",
   "execution_count": null,
   "metadata": {},
   "outputs": [],
   "source": []
  },
  {
   "cell_type": "code",
   "execution_count": 173,
   "metadata": {},
   "outputs": [],
   "source": [
    "# define callbacks\n",
    "# select best models, but with early stopping\n",
    "early_stopper = tf.keras.callbacks.EarlyStopping(monitor='val_mae', patience=10,\n",
    "    mode='min', min_delta=0.0001)\n",
    "# save best model for fit later\n",
    "checkpoint = tf.keras.callbacks.ModelCheckpoint(best_model_path, monitor='val_mae', verbose=1,\n",
    "    save_best_only=True, mode='min')\n",
    "# tensorboard callbacks for debugging\n",
    "tensorboard_callback = tf.keras.callbacks.TensorBoard(log_dir=log_dir, histogram_freq=1)\n",
    "\n",
    "callbacks_list = [early_stopper, checkpoint, tensorboard_callback]\n"
   ]
  },
  {
   "cell_type": "code",
   "execution_count": 174,
   "metadata": {},
   "outputs": [],
   "source": [
    "# from https://www.pyimagesearch.com/2019/02/04/keras-multiple-inputs-and-mixed-data/\n",
    "# opt = Adam(lr=1e-3, decay=1e-3 / 200)\n",
    "opt = Adam()\n",
    "# opt = RMSprop()\n",
    "model.compile(loss='mse',\n",
    "             metrics=['mae'],\n",
    "             optimizer=opt)"
   ]
  },
  {
   "cell_type": "markdown",
   "metadata": {},
   "source": [
    "## Train "
   ]
  },
  {
   "cell_type": "code",
   "execution_count": 175,
   "metadata": {
    "scrolled": false
   },
   "outputs": [
    {
     "name": "stdout",
     "output_type": "stream",
     "text": [
      "Epoch 1/100\n",
      "279/279 [==============================] - 350s 1s/step - loss: 0.0304 - mae: 0.1174 - val_loss: 0.0729 - val_mae: 0.2492\n",
      "\n",
      "Epoch 00001: val_mae improved from inf to 0.24919, saving model to /Users/haui/Dropbox/Academia/Projects/voting_irregularities_local/vi_satellites_dev/code_sandbox_ca/best_models/temp_multi_input.h5\n",
      "Epoch 2/100\n",
      "279/279 [==============================] - 314s 1s/step - loss: 0.0060 - mae: 0.0492 - val_loss: 0.0067 - val_mae: 0.0604\n",
      "\n",
      "Epoch 00002: val_mae improved from 0.24919 to 0.06035, saving model to /Users/haui/Dropbox/Academia/Projects/voting_irregularities_local/vi_satellites_dev/code_sandbox_ca/best_models/temp_multi_input.h5\n",
      "Epoch 3/100\n",
      "279/279 [==============================] - 310s 1s/step - loss: 0.0041 - mae: 0.0410 - val_loss: 0.0040 - val_mae: 0.0400\n",
      "\n",
      "Epoch 00003: val_mae improved from 0.06035 to 0.03998, saving model to /Users/haui/Dropbox/Academia/Projects/voting_irregularities_local/vi_satellites_dev/code_sandbox_ca/best_models/temp_multi_input.h5\n",
      "Epoch 4/100\n",
      "279/279 [==============================] - 324s 1s/step - loss: 0.0041 - mae: 0.0410 - val_loss: 0.0039 - val_mae: 0.0395\n",
      "\n",
      "Epoch 00004: val_mae improved from 0.03998 to 0.03953, saving model to /Users/haui/Dropbox/Academia/Projects/voting_irregularities_local/vi_satellites_dev/code_sandbox_ca/best_models/temp_multi_input.h5\n",
      "Epoch 5/100\n",
      "279/279 [==============================] - 318s 1s/step - loss: 0.0040 - mae: 0.0399 - val_loss: 0.0041 - val_mae: 0.0406\n",
      "\n",
      "Epoch 00005: val_mae did not improve from 0.03953\n",
      "Epoch 6/100\n",
      "279/279 [==============================] - 324s 1s/step - loss: 0.0041 - mae: 0.0405 - val_loss: 0.0040 - val_mae: 0.0394\n",
      "\n",
      "Epoch 00006: val_mae improved from 0.03953 to 0.03944, saving model to /Users/haui/Dropbox/Academia/Projects/voting_irregularities_local/vi_satellites_dev/code_sandbox_ca/best_models/temp_multi_input.h5\n",
      "Epoch 7/100\n",
      "279/279 [==============================] - 325s 1s/step - loss: 0.0039 - mae: 0.0400 - val_loss: 0.0041 - val_mae: 0.0408\n",
      "\n",
      "Epoch 00007: val_mae did not improve from 0.03944\n",
      "Epoch 8/100\n",
      "279/279 [==============================] - 323s 1s/step - loss: 0.0042 - mae: 0.0405 - val_loss: 0.0040 - val_mae: 0.0394\n",
      "\n",
      "Epoch 00008: val_mae improved from 0.03944 to 0.03937, saving model to /Users/haui/Dropbox/Academia/Projects/voting_irregularities_local/vi_satellites_dev/code_sandbox_ca/best_models/temp_multi_input.h5\n",
      "Epoch 9/100\n",
      "279/279 [==============================] - 335s 1s/step - loss: 0.0039 - mae: 0.0393 - val_loss: 0.0039 - val_mae: 0.0404\n",
      "\n",
      "Epoch 00009: val_mae did not improve from 0.03937\n",
      "Epoch 10/100\n",
      "279/279 [==============================] - 310s 1s/step - loss: 0.0042 - mae: 0.0406 - val_loss: 0.0039 - val_mae: 0.0398\n",
      "\n",
      "Epoch 00010: val_mae did not improve from 0.03937\n",
      "Epoch 11/100\n",
      "279/279 [==============================] - 310s 1s/step - loss: 0.0038 - mae: 0.0392 - val_loss: 0.0039 - val_mae: 0.0397\n",
      "\n",
      "Epoch 00011: val_mae did not improve from 0.03937\n",
      "Epoch 12/100\n",
      "279/279 [==============================] - 304s 1s/step - loss: 0.0040 - mae: 0.0399 - val_loss: 0.0040 - val_mae: 0.0398\n",
      "\n",
      "Epoch 00012: val_mae did not improve from 0.03937\n",
      "Epoch 13/100\n",
      "279/279 [==============================] - 306s 1s/step - loss: 0.0039 - mae: 0.0394 - val_loss: 0.0042 - val_mae: 0.0425\n",
      "\n",
      "Epoch 00013: val_mae did not improve from 0.03937\n",
      "Epoch 14/100\n",
      "279/279 [==============================] - 321s 1s/step - loss: 0.0040 - mae: 0.0397 - val_loss: 0.0073 - val_mae: 0.0637\n",
      "\n",
      "Epoch 00014: val_mae did not improve from 0.03937\n",
      "Epoch 15/100\n",
      "279/279 [==============================] - 321s 1s/step - loss: 0.0040 - mae: 0.0399 - val_loss: 0.0040 - val_mae: 0.0410\n",
      "\n",
      "Epoch 00015: val_mae did not improve from 0.03937\n",
      "Epoch 16/100\n",
      "279/279 [==============================] - 328s 1s/step - loss: 0.0042 - mae: 0.0401 - val_loss: 0.0039 - val_mae: 0.0404\n",
      "\n",
      "Epoch 00016: val_mae did not improve from 0.03937\n",
      "Epoch 17/100\n",
      "279/279 [==============================] - 319s 1s/step - loss: 0.0037 - mae: 0.0389 - val_loss: 0.0041 - val_mae: 0.0428\n",
      "\n",
      "Epoch 00017: val_mae did not improve from 0.03937\n",
      "Epoch 18/100\n",
      "279/279 [==============================] - 417s 1s/step - loss: 0.0039 - mae: 0.0391 - val_loss: 0.0038 - val_mae: 0.0393\n",
      "\n",
      "Epoch 00018: val_mae improved from 0.03937 to 0.03931, saving model to /Users/haui/Dropbox/Academia/Projects/voting_irregularities_local/vi_satellites_dev/code_sandbox_ca/best_models/temp_multi_input.h5\n"
     ]
    }
   ],
   "source": [
    "history = model.fit(\n",
    "    x=[train_images, train_ps_data_normalized], y=train_labels,\n",
    "    validation_split=0.1, callbacks=callbacks_list,\n",
    "    epochs=100, batch_size=64)\n",
    "# history = model.fit(\n",
    "#     x=[train_images, train_ps_data_normalized], y=train_labels,\n",
    "#     validation_data=([val_images, val_ps_data_normalized], val_labels),\n",
    "#     callbacks=callbacks_list,\n",
    "#     epochs=100, batch_size=64)"
   ]
  },
  {
   "cell_type": "code",
   "execution_count": 179,
   "metadata": {},
   "outputs": [
    {
     "data": {
      "text/plain": [
       "array([[0.83246994],\n",
       "       [0.8954464 ],\n",
       "       [0.75124824],\n",
       "       ...,\n",
       "       [0.70831585],\n",
       "       [0.8443536 ],\n",
       "       [0.8600651 ]], dtype=float32)"
      ]
     },
     "execution_count": 179,
     "metadata": {},
     "output_type": "execute_result"
    }
   ],
   "source": [
    "model.predict([test_images, normalizer(test_ps_data)])"
   ]
  },
  {
   "cell_type": "code",
   "execution_count": 176,
   "metadata": {},
   "outputs": [],
   "source": [
    "test_predictions = model.predict([test_images, normalizer(test_ps_data)]).flatten()\n"
   ]
  },
  {
   "cell_type": "code",
   "execution_count": 178,
   "metadata": {},
   "outputs": [
    {
     "name": "stdout",
     "output_type": "stream",
     "text": [
      "Mean Absolute Error: 0.0395\n"
     ]
    }
   ],
   "source": [
    "errors = abs(test_predictions - test_labels)# Print out the mean absolute error (mae)\n",
    "print('Mean Absolute Error:', round(np.mean(errors), 4))"
   ]
  },
  {
   "cell_type": "code",
   "execution_count": 177,
   "metadata": {},
   "outputs": [
    {
     "data": {
      "text/plain": [
       "[0.00387154845520854, 0.039507102221250534]"
      ]
     },
     "execution_count": 177,
     "metadata": {},
     "output_type": "execute_result"
    }
   ],
   "source": [
    "model.evaluate([test_images, normalizer(test_ps_data)], test_labels, verbose=0)"
   ]
  },
  {
   "cell_type": "code",
   "execution_count": 180,
   "metadata": {},
   "outputs": [
    {
     "data": {
      "text/plain": [
       "0.5994992"
      ]
     },
     "execution_count": 180,
     "metadata": {},
     "output_type": "execute_result"
    }
   ],
   "source": [
    "min(test_predictions)\n",
    "# max(test_labels)"
   ]
  },
  {
   "cell_type": "code",
   "execution_count": 181,
   "metadata": {},
   "outputs": [
    {
     "data": {
      "text/plain": [
       "array([0.83246994, 0.8954464 , 0.75124824, ..., 0.70831585, 0.8443536 ,\n",
       "       0.8600651 ], dtype=float32)"
      ]
     },
     "execution_count": 181,
     "metadata": {},
     "output_type": "execute_result"
    }
   ],
   "source": [
    "test_predictions"
   ]
  },
  {
   "cell_type": "code",
   "execution_count": 182,
   "metadata": {},
   "outputs": [
    {
     "data": {
      "image/png": "[encoded data removed]",
      "text/plain": [
       "<Figure size 432x288 with 1 Axes>"
      ]
     },
     "metadata": {
      "needs_background": "light"
     },
     "output_type": "display_data"
    }
   ],
   "source": [
    "import matplotlib.pyplot as plt\n",
    "a = plt.axes(aspect='equal')\n",
    "plt.scatter(test_labels, test_predictions)\n",
    "plt.xlabel('True Values [turnout in percent]')\n",
    "plt.ylabel('Predictions [turnout in percent]')\n",
    "lims = [0, 1]\n",
    "plt.xlim(lims)\n",
    "plt.ylim(lims)\n",
    "_ = plt.plot(lims, lims)"
   ]
  },
  {
   "cell_type": "code",
   "execution_count": 94,
   "metadata": {},
   "outputs": [
    {
     "name": "stdout",
     "output_type": "stream",
     "text": [
      "The tensorboard extension is already loaded. To reload it, use:\n",
      "  %reload_ext tensorboard\n"
     ]
    }
   ],
   "source": [
    "%load_ext tensorboard"
   ]
  },
  {
   "cell_type": "code",
   "execution_count": 95,
   "metadata": {},
   "outputs": [
    {
     "data": {
      "text/html": [
       "\n",
       "      <iframe id=\"tensorboard-frame-2334efca9a2a3be0\" width=\"100%\" height=\"800\" frameborder=\"0\">\n",
       "      </iframe>\n",
       "      <script>\n",
       "        (function() {\n",
       "          const frame = document.getElementById(\"tensorboard-frame-2334efca9a2a3be0\");\n",
       "          const url = new URL(\"/\", window.location);\n",
       "          const port = 6006;\n",
       "          if (port) {\n",
       "            url.port = port;\n",
       "          }\n",
       "          frame.src = url;\n",
       "        })();\n",
       "      </script>\n",
       "    "
      ],
      "text/plain": [
       "<IPython.core.display.HTML object>"
      ]
     },
     "metadata": {},
     "output_type": "display_data"
    }
   ],
   "source": [
    "%tensorboard --logdir logs/"
   ]
  },
  {
   "cell_type": "code",
   "execution_count": null,
   "metadata": {},
   "outputs": [],
   "source": []
  },
  {
   "cell_type": "code",
   "execution_count": null,
   "metadata": {},
   "outputs": [],
   "source": []
  },
  {
   "cell_type": "code",
   "execution_count": null,
   "metadata": {},
   "outputs": [],
   "source": []
  },
  {
   "cell_type": "code",
   "execution_count": 183,
   "metadata": {},
   "outputs": [],
   "source": [
    "\n",
    "def plot_loss(history):\n",
    "  plt.plot(history.history['loss'], label='loss')\n",
    "  plt.plot(history.history['val_loss'], label='val_loss')\n",
    "  plt.ylim([0, .004])\n",
    "  plt.xlabel('Epoch')\n",
    "  plt.ylabel('Error [percentage]')\n",
    "  plt.legend()\n",
    "  plt.grid(True)"
   ]
  },
  {
   "cell_type": "code",
   "execution_count": 204,
   "metadata": {},
   "outputs": [
    {
     "data": {
      "image/png": "[encoded data removed]",
      "text/plain": [
       "<Figure size 432x288 with 1 Axes>"
      ]
     },
     "metadata": {
      "needs_background": "light"
     },
     "output_type": "display_data"
    }
   ],
   "source": [
    "plot_loss(history)"
   ]
  },
  {
   "cell_type": "code",
   "execution_count": null,
   "metadata": {},
   "outputs": [],
   "source": []
  },
  {
   "cell_type": "code",
   "execution_count": null,
   "metadata": {},
   "outputs": [],
   "source": []
  },
  {
   "cell_type": "code",
   "execution_count": 41,
   "metadata": {},
   "outputs": [],
   "source": [
    "network = model1()"
   ]
  },
  {
   "cell_type": "code",
   "execution_count": 42,
   "metadata": {},
   "outputs": [],
   "source": [
    "optimizer = RMSprop()"
   ]
  },
  {
   "cell_type": "code",
   "execution_count": 43,
   "metadata": {},
   "outputs": [],
   "source": [
    "network.compile(optimizer=optimizer,\n",
    "                    loss='mse',\n",
    "                    metrics=['mae'])\n"
   ]
  },
  {
   "cell_type": "code",
   "execution_count": null,
   "metadata": {},
   "outputs": [],
   "source": []
  },
  {
   "cell_type": "code",
   "execution_count": 44,
   "metadata": {},
   "outputs": [],
   "source": [
    "best_model_path = '/Users/haui/Dropbox/Academia/Projects/voting_irregularities_local/vi_satellites_dev/code_sandbox_ca/best_models/temp_ps_level.h5'\n",
    "# select best models, but with early stopping\n",
    "early_stopper = EarlyStopping(monitor='val_mae', patience=25,\n",
    "    mode='min', min_delta=0.0001)\n",
    "checkpoint = ModelCheckpoint(best_model_path, monitor='val_mae', verbose=1,\n",
    "    save_best_only=True, mode='min')\n",
    "callbacks_list = [early_stopper, checkpoint]\n"
   ]
  },
  {
   "cell_type": "code",
   "execution_count": 45,
   "metadata": {},
   "outputs": [],
   "source": [
    "\n",
    "os.environ['KMP_DUPLICATE_LIB_OK']='True'"
   ]
  },
  {
   "cell_type": "markdown",
   "metadata": {},
   "source": [
    "### Train"
   ]
  },
  {
   "cell_type": "code",
   "execution_count": 46,
   "metadata": {},
   "outputs": [
    {
     "name": "stdout",
     "output_type": "stream",
     "text": [
      "WARNING:tensorflow:From /Users/haui/anaconda3/envs/RIO/lib/python3.6/site-packages/keras/backend/tensorflow_backend.py:422: The name tf.global_variables is deprecated. Please use tf.compat.v1.global_variables instead.\n",
      "\n",
      "Train on 18195 samples, validate on 2274 samples\n",
      "Epoch 1/100\n",
      "18195/18195 [==============================] - 199s 11ms/step - loss: 0.0261 - mae: 0.1257 - val_loss: 0.0092 - val_mae: 0.0639\n",
      "\n",
      "Epoch 00001: val_mae improved from inf to 0.06386, saving model to /Users/haui/Dropbox/Academia/Projects/voting_irregularities_local/vi_satellites_dev/code_sandbox_ca/best_models/temp_ps_level.h5\n",
      "Epoch 2/100\n",
      "18195/18195 [==============================] - 129s 7ms/step - loss: 0.0120 - mae: 0.0768 - val_loss: 0.0077 - val_mae: 0.0575\n",
      "\n",
      "Epoch 00002: val_mae improved from 0.06386 to 0.05751, saving model to /Users/haui/Dropbox/Academia/Projects/voting_irregularities_local/vi_satellites_dev/code_sandbox_ca/best_models/temp_ps_level.h5\n",
      "Epoch 3/100\n",
      "18195/18195 [==============================] - 125s 7ms/step - loss: 0.0086 - mae: 0.0657 - val_loss: 0.0072 - val_mae: 0.0562\n",
      "\n",
      "Epoch 00003: val_mae improved from 0.05751 to 0.05625, saving model to /Users/haui/Dropbox/Academia/Projects/voting_irregularities_local/vi_satellites_dev/code_sandbox_ca/best_models/temp_ps_level.h5\n",
      "Epoch 4/100\n",
      "18195/18195 [==============================] - 134s 7ms/step - loss: 0.0076 - mae: 0.0613 - val_loss: 0.0091 - val_mae: 0.0759\n",
      "\n",
      "Epoch 00004: val_mae did not improve from 0.05625\n",
      "Epoch 5/100\n",
      "18195/18195 [==============================] - 143s 8ms/step - loss: 0.0073 - mae: 0.0600 - val_loss: 0.0066 - val_mae: 0.0559\n",
      "\n",
      "Epoch 00005: val_mae improved from 0.05625 to 0.05587, saving model to /Users/haui/Dropbox/Academia/Projects/voting_irregularities_local/vi_satellites_dev/code_sandbox_ca/best_models/temp_ps_level.h5\n",
      "Epoch 6/100\n",
      "18195/18195 [==============================] - 133s 7ms/step - loss: 0.0071 - mae: 0.0587 - val_loss: 0.0075 - val_mae: 0.0614\n",
      "\n",
      "Epoch 00006: val_mae did not improve from 0.05587\n",
      "Epoch 7/100\n",
      "18195/18195 [==============================] - 133s 7ms/step - loss: 0.0070 - mae: 0.0583 - val_loss: 0.0065 - val_mae: 0.0539\n",
      "\n",
      "Epoch 00007: val_mae improved from 0.05587 to 0.05391, saving model to /Users/haui/Dropbox/Academia/Projects/voting_irregularities_local/vi_satellites_dev/code_sandbox_ca/best_models/temp_ps_level.h5\n",
      "Epoch 8/100\n",
      "18195/18195 [==============================] - 128s 7ms/step - loss: 0.0070 - mae: 0.0583 - val_loss: 0.0089 - val_mae: 0.0747\n",
      "\n",
      "Epoch 00008: val_mae did not improve from 0.05391\n",
      "Epoch 9/100\n",
      "18195/18195 [==============================] - 131s 7ms/step - loss: 0.0069 - mae: 0.0575 - val_loss: 0.0062 - val_mae: 0.0538\n",
      "\n",
      "Epoch 00009: val_mae improved from 0.05391 to 0.05384, saving model to /Users/haui/Dropbox/Academia/Projects/voting_irregularities_local/vi_satellites_dev/code_sandbox_ca/best_models/temp_ps_level.h5\n",
      "Epoch 10/100\n",
      "18195/18195 [==============================] - 137s 8ms/step - loss: 0.0067 - mae: 0.0566 - val_loss: 0.0106 - val_mae: 0.0785\n",
      "\n",
      "Epoch 00010: val_mae did not improve from 0.05384\n",
      "Epoch 11/100\n",
      "18195/18195 [==============================] - 133s 7ms/step - loss: 0.0066 - mae: 0.0558 - val_loss: 0.0080 - val_mae: 0.0687\n",
      "\n",
      "Epoch 00011: val_mae did not improve from 0.05384\n",
      "Epoch 12/100\n",
      "18195/18195 [==============================] - 133s 7ms/step - loss: 0.0065 - mae: 0.0553 - val_loss: 0.0092 - val_mae: 0.0758\n",
      "\n",
      "Epoch 00012: val_mae did not improve from 0.05384\n",
      "Epoch 13/100\n",
      "18195/18195 [==============================] - 136s 7ms/step - loss: 0.0064 - mae: 0.0548 - val_loss: 0.0078 - val_mae: 0.0586\n",
      "\n",
      "Epoch 00013: val_mae did not improve from 0.05384\n",
      "Epoch 14/100\n",
      "18195/18195 [==============================] - 142s 8ms/step - loss: 0.0063 - mae: 0.0542 - val_loss: 0.0079 - val_mae: 0.0685\n",
      "\n",
      "Epoch 00014: val_mae did not improve from 0.05384\n",
      "Epoch 15/100\n",
      "18195/18195 [==============================] - 137s 8ms/step - loss: 0.0062 - mae: 0.0537 - val_loss: 0.0067 - val_mae: 0.0524\n",
      "\n",
      "Epoch 00015: val_mae improved from 0.05384 to 0.05243, saving model to /Users/haui/Dropbox/Academia/Projects/voting_irregularities_local/vi_satellites_dev/code_sandbox_ca/best_models/temp_ps_level.h5\n",
      "Epoch 16/100\n",
      "18195/18195 [==============================] - 138s 8ms/step - loss: 0.0062 - mae: 0.0535 - val_loss: 0.0079 - val_mae: 0.0563\n",
      "\n",
      "Epoch 00016: val_mae did not improve from 0.05243\n",
      "Epoch 17/100\n",
      "18195/18195 [==============================] - 142s 8ms/step - loss: 0.0061 - mae: 0.0529 - val_loss: 0.0065 - val_mae: 0.0516\n",
      "\n",
      "Epoch 00017: val_mae improved from 0.05243 to 0.05162, saving model to /Users/haui/Dropbox/Academia/Projects/voting_irregularities_local/vi_satellites_dev/code_sandbox_ca/best_models/temp_ps_level.h5\n",
      "Epoch 18/100\n",
      "18195/18195 [==============================] - 140s 8ms/step - loss: 0.0060 - mae: 0.0528 - val_loss: 0.0066 - val_mae: 0.0529\n",
      "\n",
      "Epoch 00018: val_mae did not improve from 0.05162\n",
      "Epoch 19/100\n",
      "18195/18195 [==============================] - 140s 8ms/step - loss: 0.0060 - mae: 0.0527 - val_loss: 0.0086 - val_mae: 0.0679\n",
      "\n",
      "Epoch 00019: val_mae did not improve from 0.05162\n",
      "Epoch 20/100\n",
      "18195/18195 [==============================] - 136s 7ms/step - loss: 0.0060 - mae: 0.0522 - val_loss: 0.0104 - val_mae: 0.0705\n",
      "\n",
      "Epoch 00020: val_mae did not improve from 0.05162\n",
      "Epoch 21/100\n",
      "18195/18195 [==============================] - 136s 7ms/step - loss: 0.0059 - mae: 0.0518 - val_loss: 0.0069 - val_mae: 0.0516\n",
      "\n",
      "Epoch 00021: val_mae did not improve from 0.05162\n",
      "Epoch 22/100\n",
      "18195/18195 [==============================] - 139s 8ms/step - loss: 0.0058 - mae: 0.0514 - val_loss: 0.0059 - val_mae: 0.0556\n",
      "\n",
      "Epoch 00022: val_mae did not improve from 0.05162\n",
      "Epoch 23/100\n",
      "18195/18195 [==============================] - 137s 8ms/step - loss: 0.0058 - mae: 0.0514 - val_loss: 0.0060 - val_mae: 0.0483\n",
      "\n",
      "Epoch 00023: val_mae improved from 0.05162 to 0.04833, saving model to /Users/haui/Dropbox/Academia/Projects/voting_irregularities_local/vi_satellites_dev/code_sandbox_ca/best_models/temp_ps_level.h5\n",
      "Epoch 24/100\n",
      "18195/18195 [==============================] - 135s 7ms/step - loss: 0.0058 - mae: 0.0512 - val_loss: 0.0056 - val_mae: 0.0477\n",
      "\n",
      "Epoch 00024: val_mae improved from 0.04833 to 0.04770, saving model to /Users/haui/Dropbox/Academia/Projects/voting_irregularities_local/vi_satellites_dev/code_sandbox_ca/best_models/temp_ps_level.h5\n",
      "Epoch 25/100\n",
      "18195/18195 [==============================] - 135s 7ms/step - loss: 0.0057 - mae: 0.0509 - val_loss: 0.0066 - val_mae: 0.0570\n",
      "\n",
      "Epoch 00025: val_mae did not improve from 0.04770\n",
      "Epoch 26/100\n",
      "18195/18195 [==============================] - 135s 7ms/step - loss: 0.0057 - mae: 0.0508 - val_loss: 0.0149 - val_mae: 0.0971\n",
      "\n",
      "Epoch 00026: val_mae did not improve from 0.04770\n",
      "Epoch 27/100\n",
      "18195/18195 [==============================] - 135s 7ms/step - loss: 0.0057 - mae: 0.0507 - val_loss: 0.0063 - val_mae: 0.0563\n",
      "\n",
      "Epoch 00027: val_mae did not improve from 0.04770\n",
      "Epoch 28/100\n",
      "18195/18195 [==============================] - 139s 8ms/step - loss: 0.0056 - mae: 0.0505 - val_loss: 0.0072 - val_mae: 0.0555\n",
      "\n",
      "Epoch 00028: val_mae did not improve from 0.04770\n",
      "Epoch 29/100\n",
      "18195/18195 [==============================] - 143s 8ms/step - loss: 0.0055 - mae: 0.0500 - val_loss: 0.0068 - val_mae: 0.0562\n",
      "\n",
      "Epoch 00029: val_mae did not improve from 0.04770\n",
      "Epoch 30/100\n",
      "18195/18195 [==============================] - 145s 8ms/step - loss: 0.0055 - mae: 0.0497 - val_loss: 0.0067 - val_mae: 0.0535\n",
      "\n",
      "Epoch 00030: val_mae did not improve from 0.04770\n",
      "Epoch 31/100\n",
      "18195/18195 [==============================] - 143s 8ms/step - loss: 0.0054 - mae: 0.0497 - val_loss: 0.0052 - val_mae: 0.0461\n",
      "\n",
      "Epoch 00031: val_mae improved from 0.04770 to 0.04611, saving model to /Users/haui/Dropbox/Academia/Projects/voting_irregularities_local/vi_satellites_dev/code_sandbox_ca/best_models/temp_ps_level.h5\n",
      "Epoch 32/100\n",
      "18195/18195 [==============================] - 144s 8ms/step - loss: 0.0054 - mae: 0.0495 - val_loss: 0.0090 - val_mae: 0.0668\n",
      "\n",
      "Epoch 00032: val_mae did not improve from 0.04611\n",
      "Epoch 33/100\n",
      "18195/18195 [==============================] - 145s 8ms/step - loss: 0.0054 - mae: 0.0493 - val_loss: 0.0099 - val_mae: 0.0677\n",
      "\n",
      "Epoch 00033: val_mae did not improve from 0.04611\n",
      "Epoch 34/100\n"
     ]
    },
    {
     "name": "stdout",
     "output_type": "stream",
     "text": [
      "18195/18195 [==============================] - 145s 8ms/step - loss: 0.0052 - mae: 0.0488 - val_loss: 0.0064 - val_mae: 0.0548\n",
      "\n",
      "Epoch 00034: val_mae did not improve from 0.04611\n",
      "Epoch 35/100\n",
      "18195/18195 [==============================] - 145s 8ms/step - loss: 0.0053 - mae: 0.0488 - val_loss: 0.0072 - val_mae: 0.0611\n",
      "\n",
      "Epoch 00035: val_mae did not improve from 0.04611\n",
      "Epoch 36/100\n",
      "18195/18195 [==============================] - 146s 8ms/step - loss: 0.0052 - mae: 0.0484 - val_loss: 0.0088 - val_mae: 0.0637\n",
      "\n",
      "Epoch 00036: val_mae did not improve from 0.04611\n",
      "Epoch 37/100\n",
      "18195/18195 [==============================] - 146s 8ms/step - loss: 0.0050 - mae: 0.0479 - val_loss: 0.0090 - val_mae: 0.0646\n",
      "\n",
      "Epoch 00037: val_mae did not improve from 0.04611\n",
      "Epoch 38/100\n",
      "18195/18195 [==============================] - 147s 8ms/step - loss: 0.0049 - mae: 0.0475 - val_loss: 0.0070 - val_mae: 0.0536\n",
      "\n",
      "Epoch 00038: val_mae did not improve from 0.04611\n",
      "Epoch 39/100\n",
      "18195/18195 [==============================] - 145s 8ms/step - loss: 0.0048 - mae: 0.0472 - val_loss: 0.0090 - val_mae: 0.0639\n",
      "\n",
      "Epoch 00039: val_mae did not improve from 0.04611\n",
      "Epoch 40/100\n",
      "18195/18195 [==============================] - 146s 8ms/step - loss: 0.0048 - mae: 0.0467 - val_loss: 0.0058 - val_mae: 0.0514\n",
      "\n",
      "Epoch 00040: val_mae did not improve from 0.04611\n",
      "Epoch 41/100\n",
      "18195/18195 [==============================] - 146s 8ms/step - loss: 0.0047 - mae: 0.0464 - val_loss: 0.0089 - val_mae: 0.0669\n",
      "\n",
      "Epoch 00041: val_mae did not improve from 0.04611\n",
      "Epoch 42/100\n",
      "18195/18195 [==============================] - 145s 8ms/step - loss: 0.0046 - mae: 0.0461 - val_loss: 0.0091 - val_mae: 0.0687\n",
      "\n",
      "Epoch 00042: val_mae did not improve from 0.04611\n",
      "Epoch 43/100\n",
      "18195/18195 [==============================] - 146s 8ms/step - loss: 0.0045 - mae: 0.0460 - val_loss: 0.0078 - val_mae: 0.0597\n",
      "\n",
      "Epoch 00043: val_mae did not improve from 0.04611\n",
      "Epoch 44/100\n",
      "18195/18195 [==============================] - 147s 8ms/step - loss: 0.0043 - mae: 0.0451 - val_loss: 0.0063 - val_mae: 0.0519\n",
      "\n",
      "Epoch 00044: val_mae did not improve from 0.04611\n",
      "Epoch 45/100\n",
      "18195/18195 [==============================] - 147s 8ms/step - loss: 0.0042 - mae: 0.0444 - val_loss: 0.0081 - val_mae: 0.0632\n",
      "\n",
      "Epoch 00045: val_mae did not improve from 0.04611\n",
      "Epoch 46/100\n",
      "18195/18195 [==============================] - 146s 8ms/step - loss: 0.0041 - mae: 0.0442 - val_loss: 0.0059 - val_mae: 0.0515\n",
      "\n",
      "Epoch 00046: val_mae did not improve from 0.04611\n",
      "Epoch 47/100\n",
      "18195/18195 [==============================] - 147s 8ms/step - loss: 0.0039 - mae: 0.0434 - val_loss: 0.0097 - val_mae: 0.0723\n",
      "\n",
      "Epoch 00047: val_mae did not improve from 0.04611\n",
      "Epoch 48/100\n",
      "18195/18195 [==============================] - 146s 8ms/step - loss: 0.0038 - mae: 0.0431 - val_loss: 0.0085 - val_mae: 0.0659\n",
      "\n",
      "Epoch 00048: val_mae did not improve from 0.04611\n",
      "Epoch 49/100\n",
      "18195/18195 [==============================] - 146s 8ms/step - loss: 0.0037 - mae: 0.0426 - val_loss: 0.0077 - val_mae: 0.0610\n",
      "\n",
      "Epoch 00049: val_mae did not improve from 0.04611\n",
      "Epoch 50/100\n",
      "18195/18195 [==============================] - 146s 8ms/step - loss: 0.0036 - mae: 0.0421 - val_loss: 0.0097 - val_mae: 0.0678\n",
      "\n",
      "Epoch 00050: val_mae did not improve from 0.04611\n",
      "Epoch 51/100\n",
      "18195/18195 [==============================] - 147s 8ms/step - loss: 0.0036 - mae: 0.0417 - val_loss: 0.0086 - val_mae: 0.0638\n",
      "\n",
      "Epoch 00051: val_mae did not improve from 0.04611\n",
      "Epoch 52/100\n",
      "18195/18195 [==============================] - 147s 8ms/step - loss: 0.0034 - mae: 0.0410 - val_loss: 0.0076 - val_mae: 0.0571\n",
      "\n",
      "Epoch 00052: val_mae did not improve from 0.04611\n",
      "Epoch 53/100\n",
      "18195/18195 [==============================] - 148s 8ms/step - loss: 0.0033 - mae: 0.0405 - val_loss: 0.0075 - val_mae: 0.0628\n",
      "\n",
      "Epoch 00053: val_mae did not improve from 0.04611\n",
      "Epoch 54/100\n",
      "18195/18195 [==============================] - 147s 8ms/step - loss: 0.0032 - mae: 0.0397 - val_loss: 0.0072 - val_mae: 0.0557\n",
      "\n",
      "Epoch 00054: val_mae did not improve from 0.04611\n",
      "Epoch 55/100\n",
      "18195/18195 [==============================] - 147s 8ms/step - loss: 0.0032 - mae: 0.0399 - val_loss: 0.0066 - val_mae: 0.0539\n",
      "\n",
      "Epoch 00055: val_mae did not improve from 0.04611\n",
      "Epoch 56/100\n",
      "18195/18195 [==============================] - 146s 8ms/step - loss: 0.0030 - mae: 0.0391 - val_loss: 0.0089 - val_mae: 0.0656\n",
      "\n",
      "Epoch 00056: val_mae did not improve from 0.04611\n"
     ]
    }
   ],
   "source": [
    "# do the work\n",
    "history = network.fit(train_images, train_labels,\n",
    "            epochs=100 , batch_size=16, callbacks=callbacks_list,\n",
    "            validation_data=(val_images, val_labels))\n"
   ]
  },
  {
   "cell_type": "code",
   "execution_count": 49,
   "metadata": {},
   "outputs": [],
   "source": [
    "def plot_loss(history):\n",
    "  plt.plot(history.history['loss'], label='loss')\n",
    "  plt.plot(history.history['val_loss'], label='val_loss')\n",
    "  plt.ylim([0, .05])\n",
    "  plt.xlabel('Epoch')\n",
    "  plt.ylabel('Error [percentage]')\n",
    "  plt.legend()\n",
    "  plt.grid(True)\n"
   ]
  },
  {
   "cell_type": "code",
   "execution_count": 50,
   "metadata": {},
   "outputs": [
    {
     "data": {
      "image/png": "[encoded data removed]",
      "text/plain": [
       "<Figure size 432x288 with 1 Axes>"
      ]
     },
     "metadata": {
      "needs_background": "light"
     },
     "output_type": "display_data"
    }
   ],
   "source": [
    "plot_loss(history)"
   ]
  },
  {
   "cell_type": "code",
   "execution_count": null,
   "metadata": {},
   "outputs": [],
   "source": []
  },
  {
   "cell_type": "code",
   "execution_count": 54,
   "metadata": {},
   "outputs": [],
   "source": [
    "network.load_weights(best_model_path)\n"
   ]
  },
  {
   "cell_type": "code",
   "execution_count": 56,
   "metadata": {},
   "outputs": [],
   "source": [
    "\n",
    "network.compile(optimizer=optimizer,\n",
    "                loss='mse',\n",
    "                metrics=['mae'])\n",
    "\n"
   ]
  },
  {
   "cell_type": "code",
   "execution_count": 57,
   "metadata": {},
   "outputs": [],
   "source": [
    "predicted_score = network.predict(test_images)"
   ]
  },
  {
   "cell_type": "code",
   "execution_count": 58,
   "metadata": {},
   "outputs": [
    {
     "data": {
      "text/plain": [
       "array([[0.84731066],\n",
       "       [0.9111533 ],\n",
       "       [0.8853828 ],\n",
       "       ...,\n",
       "       [0.887815  ],\n",
       "       [0.9202273 ],\n",
       "       [0.71072334]], dtype=float32)"
      ]
     },
     "execution_count": 58,
     "metadata": {},
     "output_type": "execute_result"
    }
   ],
   "source": [
    "predicted_score"
   ]
  },
  {
   "cell_type": "code",
   "execution_count": null,
   "metadata": {},
   "outputs": [],
   "source": []
  },
  {
   "cell_type": "code",
   "execution_count": 59,
   "metadata": {},
   "outputs": [
    {
     "name": "stdout",
     "output_type": "stream",
     "text": [
      "2274/2274 [==============================] - 4s 2ms/step\n"
     ]
    }
   ],
   "source": [
    "results = network.evaluate(test_images, test_labels)"
   ]
  },
  {
   "cell_type": "code",
   "execution_count": 60,
   "metadata": {},
   "outputs": [
    {
     "name": "stdout",
     "output_type": "stream",
     "text": [
      "test loss, test MAE: [0.006271494327751115, 0.05192096158862114]\n"
     ]
    }
   ],
   "source": [
    "print(\"test loss, test MAE:\", results)\n"
   ]
  },
  {
   "cell_type": "code",
   "execution_count": 61,
   "metadata": {},
   "outputs": [
    {
     "data": {
      "image/png": "[encoded data removed]",
      "text/plain": [
       "<Figure size 432x288 with 1 Axes>"
      ]
     },
     "metadata": {
      "needs_background": "light"
     },
     "output_type": "display_data"
    }
   ],
   "source": [
    "test_predictions = network.predict(test_images)\n",
    "\n",
    "a = plt.axes(aspect='equal')\n",
    "plt.scatter(test_labels, test_predictions)\n",
    "plt.xlabel('True Values [turnout in percent]')\n",
    "plt.ylabel('Predictions [turnout in percent]')\n",
    "lims = [0, 1]\n",
    "plt.xlim(lims)\n",
    "plt.ylim(lims)\n",
    "_ = plt.plot(lims, lims)"
   ]
  },
  {
   "cell_type": "code",
   "execution_count": null,
   "metadata": {},
   "outputs": [],
   "source": []
  },
  {
   "cell_type": "markdown",
   "metadata": {},
   "source": []
  },
  {
   "cell_type": "code",
   "execution_count": null,
   "metadata": {},
   "outputs": [],
   "source": []
  },
  {
   "cell_type": "markdown",
   "metadata": {},
   "source": [
    "### OOS Prediction"
   ]
  },
  {
   "cell_type": "code",
   "execution_count": null,
   "metadata": {},
   "outputs": [],
   "source": []
  }
 ],
 "metadata": {
  "kernelspec": {
   "display_name": "tf2_vi",
   "language": "python",
   "name": "tf2_vi"
  },
  "language_info": {
   "codemirror_mode": {
    "name": "ipython",
    "version": 3
   },
   "file_extension": ".py",
   "mimetype": "text/x-python",
   "name": "python",
   "nbconvert_exporter": "python",
   "pygments_lexer": "ipython3",
   "version": "3.9.4"
  }
 },
 "nbformat": 4,
 "nbformat_minor": 2
}

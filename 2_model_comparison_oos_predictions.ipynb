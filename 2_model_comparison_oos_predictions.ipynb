{
 "cells": [
  {
   "cell_type": "markdown",
   "metadata": {},
   "source": [
    "# Comparing different models and data sources in the oos prediction"
   ]
  },
  {
   "cell_type": "markdown",
   "metadata": {},
   "source": [
    "Predictions from micro data (RF and DNN), as well as satellite data overpredict turnout systematically. \n",
    "\n",
    "* Are only the micro data predictions similar? If so, it is a micro data issue.\n",
    "* Are only the predictions with the neural nets the same? If so, it is a DNN issue.\n",
    "* Are all overpredicted stations the same ones?\n",
    "* Are they all different? "
   ]
  },
  {
   "cell_type": "code",
   "execution_count": 1,
   "metadata": {},
   "outputs": [],
   "source": [
    "import tensorflow as tf"
   ]
  },
  {
   "cell_type": "markdown",
   "metadata": {},
   "source": [
    "### Houskeeping"
   ]
  },
  {
   "cell_type": "code",
   "execution_count": 2,
   "metadata": {},
   "outputs": [
    {
     "data": {
      "text/plain": [
       "'2.4.1'"
      ]
     },
     "execution_count": 2,
     "metadata": {},
     "output_type": "execute_result"
    }
   ],
   "source": [
    "tf.__version__\n"
   ]
  },
  {
   "cell_type": "code",
   "execution_count": 3,
   "metadata": {},
   "outputs": [],
   "source": [
    "\n",
    "import tensorflow as tf\n",
    "\n",
    "from tensorflow import keras\n",
    "from tensorflow.keras import layers\n",
    "from tensorflow.keras.layers.experimental import preprocessing\n",
    "from tensorflow.keras.callbacks import EarlyStopping, ModelCheckpoint"
   ]
  },
  {
   "cell_type": "code",
   "execution_count": 4,
   "metadata": {},
   "outputs": [],
   "source": [
    "# import the necessary packages\n",
    "from tensorflow.keras.layers.experimental.preprocessing import Normalization\n",
    "from tensorflow.keras.models import Sequential\n",
    "from tensorflow.keras.layers import BatchNormalization\n",
    "from tensorflow.keras.layers import Conv2D\n",
    "from tensorflow.keras.layers import MaxPooling2D\n",
    "from tensorflow.keras.layers import Activation\n",
    "from tensorflow.keras.layers import Dropout\n",
    "from tensorflow.keras.layers import Dense\n",
    "from tensorflow.keras.layers import Flatten\n",
    "from tensorflow.keras.layers import Input\n",
    "from tensorflow.keras.models import Model\n",
    "from tensorflow.keras.utils import plot_model\n",
    "from tensorflow.keras.layers import concatenate\n",
    "from tensorflow.keras.optimizers import Adam\n",
    "from tensorflow.keras.optimizers import RMSprop\n",
    "\n"
   ]
  },
  {
   "cell_type": "code",
   "execution_count": 5,
   "metadata": {},
   "outputs": [],
   "source": [
    "\n",
    "\n",
    "import glob\n",
    "import numpy as np\n",
    "# import csv\n",
    "from itertools import compress\n",
    "import rasterio\n",
    "import random\n",
    "import json\n",
    "import math\n",
    "import time\n",
    "import os\n",
    "import sys\n",
    "import pandas as pd\n",
    "# Self written functions\n",
    "from helpers.helpers_read_data import *\n",
    "# from helpers.helpers_models_tf2 import *\n",
    "# from helpers.helpers_performance_analytics import *\n",
    "\n"
   ]
  },
  {
   "cell_type": "markdown",
   "metadata": {},
   "source": [
    "# 1 Data Work\n",
    "## Adapting the reading of the satellite images"
   ]
  },
  {
   "cell_type": "code",
   "execution_count": 6,
   "metadata": {},
   "outputs": [],
   "source": [
    "images_path = '/Users/haui/Desktop/Kenya_Landsat7_1y_before_election_scale30'\n",
    "# images_path = '/Users/haui/Dropbox/Academia/Projects/voting_irregularities_local/vi_satellites_dev/data/landsat7_temp'\n",
    "ps_data_path = '/Users/haui/Dropbox/Academia/Projects/voting_irregularities_local/vi_satellites_dev/data/kenya13_vars.json'\n",
    "\n",
    "image_data, image_ps_id = read_stllt_images_and_names(images_path)"
   ]
  },
  {
   "cell_type": "code",
   "execution_count": 7,
   "metadata": {},
   "outputs": [
    {
     "data": {
      "text/plain": [
       "24599"
      ]
     },
     "execution_count": 7,
     "metadata": {},
     "output_type": "execute_result"
    }
   ],
   "source": [
    "len(image_data)"
   ]
  },
  {
   "cell_type": "code",
   "execution_count": null,
   "metadata": {},
   "outputs": [],
   "source": [
    "imgplot = plt.imshow(img)\n",
    "# id of the polling station\n",
    "ps_votes_cast[selector][7]\n",
    "# in the .xls, the name of the ps is \"KAMUJWA PRIMARY SCHOOL\". Search for it on googlemaps to compare. \n",
    "# It is checking out"
   ]
  },
  {
   "cell_type": "code",
   "execution_count": 8,
   "metadata": {},
   "outputs": [],
   "source": [
    "# 1 Prepare data dictionaries for easy querying\n",
    "# Images dict at PS level\n",
    "images_data_dict = dict(zip(image_ps_id,image_data))"
   ]
  },
  {
   "cell_type": "code",
   "execution_count": 127,
   "metadata": {},
   "outputs": [
    {
     "name": "stderr",
     "output_type": "stream",
     "text": [
      "/Users/haui/anaconda3/envs/tf2_vi/lib/python3.9/site-packages/IPython/core/interactiveshell.py:3169: DtypeWarning: Columns (6,10) have mixed types.Specify dtype option on import or set low_memory=False.\n",
      "  has_raised = await self.run_ast_nodes(code_ast.body, cell_name,\n"
     ]
    }
   ],
   "source": [
    "# Let us use the same data as for the DNN\n",
    "raw_dat = pd.read_csv('../data/final-for-analysis.csv')\n",
    "\n",
    "dat = pd.concat([raw_dat['psid'],\n",
    "                 # turnout\n",
    "                 raw_dat[\"turnout_count\"], raw_dat[\"registered_voters\"], \n",
    "                 # ethnic frac (let's simply average...)\n",
    "                 raw_dat['ethnic_frac'],\n",
    "                 # other PS level data\n",
    "                 raw_dat['terrain_elevation'], raw_dat['terrain_ruggedness'],\n",
    "                   raw_dat['terrain_slope'],raw_dat['poverty_rate'], raw_dat['literacy_rate'],\n",
    "                   raw_dat['dependency_ratio'],raw_dat['skilled_birth_att'],\n",
    "                   raw_dat['night_lights'],raw_dat['county_name']], axis=1)\n",
    "\n",
    "\n",
    "dat_ps = dat.groupby('psid').agg({\n",
    "    # preparing for turnout\n",
    "    'turnout_count': 'sum',\n",
    "    'registered_voters': 'sum',\n",
    "    # assumption. but fair approx for now, since all streams have (sort of) same weight\n",
    "    'ethnic_frac': 'mean',\n",
    "    # Polling Station level anyway\n",
    "    'terrain_elevation': 'first',\n",
    "    'terrain_ruggedness': 'first',\n",
    "    'terrain_slope': 'first',\n",
    "    'poverty_rate': 'first',\n",
    "    'literacy_rate': 'first',\n",
    "    'dependency_ratio': 'first',\n",
    "    'skilled_birth_att': 'first',\n",
    "    'night_lights': 'first',\n",
    "    'county_name': 'first',\n",
    "})\n",
    "\n",
    "\n"
   ]
  },
  {
   "cell_type": "code",
   "execution_count": 128,
   "metadata": {},
   "outputs": [
    {
     "data": {
      "text/html": [
       "<div>\n",
       "<style scoped>\n",
       "    .dataframe tbody tr th:only-of-type {\n",
       "        vertical-align: middle;\n",
       "    }\n",
       "\n",
       "    .dataframe tbody tr th {\n",
       "        vertical-align: top;\n",
       "    }\n",
       "\n",
       "    .dataframe thead th {\n",
       "        text-align: right;\n",
       "    }\n",
       "</style>\n",
       "<table border=\"1\" class=\"dataframe\">\n",
       "  <thead>\n",
       "    <tr style=\"text-align: right;\">\n",
       "      <th></th>\n",
       "      <th>turnout_count</th>\n",
       "      <th>registered_voters</th>\n",
       "      <th>ethnic_frac</th>\n",
       "      <th>terrain_elevation</th>\n",
       "      <th>terrain_ruggedness</th>\n",
       "      <th>terrain_slope</th>\n",
       "      <th>poverty_rate</th>\n",
       "      <th>literacy_rate</th>\n",
       "      <th>dependency_ratio</th>\n",
       "      <th>skilled_birth_att</th>\n",
       "      <th>night_lights</th>\n",
       "      <th>county_name</th>\n",
       "    </tr>\n",
       "    <tr>\n",
       "      <th>psid</th>\n",
       "      <th></th>\n",
       "      <th></th>\n",
       "      <th></th>\n",
       "      <th></th>\n",
       "      <th></th>\n",
       "      <th></th>\n",
       "      <th></th>\n",
       "      <th></th>\n",
       "      <th></th>\n",
       "      <th></th>\n",
       "      <th></th>\n",
       "      <th></th>\n",
       "    </tr>\n",
       "  </thead>\n",
       "  <tbody>\n",
       "    <tr>\n",
       "      <th>001/001</th>\n",
       "      <td>3369.0</td>\n",
       "      <td>5267.0</td>\n",
       "      <td>0.559003</td>\n",
       "      <td>-2.196058</td>\n",
       "      <td>-0.752885</td>\n",
       "      <td>-0.756035</td>\n",
       "      <td>-2.109904</td>\n",
       "      <td>6.377350</td>\n",
       "      <td>-2.322930</td>\n",
       "      <td>0.612534</td>\n",
       "      <td>3.677581</td>\n",
       "      <td>MOMBASA</td>\n",
       "    </tr>\n",
       "    <tr>\n",
       "      <th>001/002</th>\n",
       "      <td>2354.0</td>\n",
       "      <td>3489.0</td>\n",
       "      <td>0.662413</td>\n",
       "      <td>-2.205743</td>\n",
       "      <td>-0.794555</td>\n",
       "      <td>-0.788982</td>\n",
       "      <td>-2.179095</td>\n",
       "      <td>6.078287</td>\n",
       "      <td>-2.455718</td>\n",
       "      <td>0.615652</td>\n",
       "      <td>3.662392</td>\n",
       "      <td>MOMBASA</td>\n",
       "    </tr>\n",
       "    <tr>\n",
       "      <th>001/003</th>\n",
       "      <td>1295.0</td>\n",
       "      <td>2277.0</td>\n",
       "      <td>0.654413</td>\n",
       "      <td>-2.207539</td>\n",
       "      <td>-0.737618</td>\n",
       "      <td>-0.740169</td>\n",
       "      <td>-2.209238</td>\n",
       "      <td>6.424049</td>\n",
       "      <td>-2.455718</td>\n",
       "      <td>0.614910</td>\n",
       "      <td>3.678592</td>\n",
       "      <td>MOMBASA</td>\n",
       "    </tr>\n",
       "    <tr>\n",
       "      <th>001/004</th>\n",
       "      <td>1751.0</td>\n",
       "      <td>2337.0</td>\n",
       "      <td>0.556684</td>\n",
       "      <td>-2.203868</td>\n",
       "      <td>-0.768254</td>\n",
       "      <td>-0.770896</td>\n",
       "      <td>-2.199451</td>\n",
       "      <td>6.468515</td>\n",
       "      <td>-2.455718</td>\n",
       "      <td>0.614704</td>\n",
       "      <td>3.686981</td>\n",
       "      <td>MOMBASA</td>\n",
       "    </tr>\n",
       "    <tr>\n",
       "      <th>001/005</th>\n",
       "      <td>1070.0</td>\n",
       "      <td>1448.0</td>\n",
       "      <td>0.500205</td>\n",
       "      <td>-2.203344</td>\n",
       "      <td>-0.669685</td>\n",
       "      <td>-0.670843</td>\n",
       "      <td>-2.201605</td>\n",
       "      <td>6.475418</td>\n",
       "      <td>-2.455718</td>\n",
       "      <td>0.613048</td>\n",
       "      <td>3.692524</td>\n",
       "      <td>MOMBASA</td>\n",
       "    </tr>\n",
       "  </tbody>\n",
       "</table>\n",
       "</div>"
      ],
      "text/plain": [
       "         turnout_count  registered_voters  ethnic_frac  terrain_elevation  \\\n",
       "psid                                                                        \n",
       "001/001         3369.0             5267.0     0.559003          -2.196058   \n",
       "001/002         2354.0             3489.0     0.662413          -2.205743   \n",
       "001/003         1295.0             2277.0     0.654413          -2.207539   \n",
       "001/004         1751.0             2337.0     0.556684          -2.203868   \n",
       "001/005         1070.0             1448.0     0.500205          -2.203344   \n",
       "\n",
       "         terrain_ruggedness  terrain_slope  poverty_rate  literacy_rate  \\\n",
       "psid                                                                      \n",
       "001/001           -0.752885      -0.756035     -2.109904       6.377350   \n",
       "001/002           -0.794555      -0.788982     -2.179095       6.078287   \n",
       "001/003           -0.737618      -0.740169     -2.209238       6.424049   \n",
       "001/004           -0.768254      -0.770896     -2.199451       6.468515   \n",
       "001/005           -0.669685      -0.670843     -2.201605       6.475418   \n",
       "\n",
       "         dependency_ratio  skilled_birth_att  night_lights county_name  \n",
       "psid                                                                    \n",
       "001/001         -2.322930           0.612534      3.677581     MOMBASA  \n",
       "001/002         -2.455718           0.615652      3.662392     MOMBASA  \n",
       "001/003         -2.455718           0.614910      3.678592     MOMBASA  \n",
       "001/004         -2.455718           0.614704      3.686981     MOMBASA  \n",
       "001/005         -2.455718           0.613048      3.692524     MOMBASA  "
      ]
     },
     "execution_count": 128,
     "metadata": {},
     "output_type": "execute_result"
    }
   ],
   "source": [
    "dat_ps.head()\n",
    "# dat_ps.tail() TODO there is something weird happening"
   ]
  },
  {
   "cell_type": "markdown",
   "metadata": {},
   "source": [
    "#### Clean data "
   ]
  },
  {
   "cell_type": "code",
   "execution_count": 129,
   "metadata": {},
   "outputs": [],
   "source": [
    "# turn rown names from grouping into own column\n",
    "dat_ps.index.name = 'psid'\n",
    "dat_ps.reset_index(inplace=True)\n",
    "# replace the / for a - to be in sync with the image names\n",
    "dat_ps['psid'] = dat_ps['psid'].str.replace('/','-')"
   ]
  },
  {
   "cell_type": "code",
   "execution_count": 130,
   "metadata": {},
   "outputs": [],
   "source": [
    "# calculate and correct turnout\n",
    "dat_ps['registered_voters'] = dat_ps['registered_voters'].replace(0, np.NaN)\n",
    "dat_ps['turnout'] = dat_ps[\"turnout_count\"]/dat_ps['registered_voters']\n",
    "dat_ps['turnout'].values[dat_ps['turnout'] > 1] = np.NaN\n",
    "# drop NaNs\n",
    "dat_ps = dat_ps.dropna()\n",
    "# turn into dictionary for polling stations\n",
    "# ps_data_dict = dict(zip(list(dat_ps['psid']), list(dat_ps['turnout'])))\n",
    "# \n",
    "dat_ps = pd.get_dummies(dat_ps, columns=['county_name'], prefix='', prefix_sep='')\n",
    "\n"
   ]
  },
  {
   "cell_type": "code",
   "execution_count": null,
   "metadata": {},
   "outputs": [],
   "source": []
  },
  {
   "cell_type": "code",
   "execution_count": 131,
   "metadata": {},
   "outputs": [
    {
     "data": {
      "text/plain": [
       "(22008, 60)"
      ]
     },
     "execution_count": 131,
     "metadata": {},
     "output_type": "execute_result"
    }
   ],
   "source": [
    "dat_ps.shape\n"
   ]
  },
  {
   "cell_type": "code",
   "execution_count": 132,
   "metadata": {},
   "outputs": [
    {
     "data": {
      "text/plain": [
       "0.01824817518248175"
      ]
     },
     "execution_count": 132,
     "metadata": {},
     "output_type": "execute_result"
    }
   ],
   "source": [
    "# # Data Checks\n",
    "dat_ps.head()\n",
    "max(dat_ps['turnout'])\n",
    "min(dat_ps['turnout'])"
   ]
  },
  {
   "cell_type": "markdown",
   "metadata": {},
   "source": [
    "#### Make sure each data point is only covered once and that we have data for it\n",
    "* In the polling station data check for double entries \n",
    "* Do we have data for the sat image?\n"
   ]
  },
  {
   "cell_type": "code",
   "execution_count": 133,
   "metadata": {},
   "outputs": [],
   "source": [
    "unique_ps_id = list(set(list(dat_ps['psid'])))\n",
    "# assert each id occurs only once\n",
    "assert len(unique_ps_id)==dat_ps.shape[0]\n",
    "\n",
    "ps_id_at_ps_level = list(dat_ps['psid'])\n",
    "# turnout_at_ps_level = list(dat_ps['turnout'])\n"
   ]
  },
  {
   "cell_type": "markdown",
   "metadata": {},
   "source": [
    "## Split up the three data sources -- in the correct order\n",
    "* ID vars are in: ps_id_at_ps_level_wona\n",
    "* images are in: images_at_ps_level_wona\n",
    "* outcome var is in: turnout_at_ps_level_wona\n",
    "* further EVs are in: dat_ps_features_wona\n"
   ]
  },
  {
   "cell_type": "code",
   "execution_count": 134,
   "metadata": {},
   "outputs": [],
   "source": [
    "# This creates a mask to check for which satellite images we actually have data. \n",
    "# Returns \n",
    "# a) a list with the photos of the polling stations for which there are data \n",
    "# b) And a mask that you can use to select later on\n",
    "images_at_ps_level_wona = []\n",
    "mask = [True]*len(ps_id_at_ps_level)"
   ]
  },
  {
   "cell_type": "code",
   "execution_count": 135,
   "metadata": {},
   "outputs": [],
   "source": [
    "# this is a name query in the order of the ps_ids in the dat_ps data set\n",
    "# in result, the sat images are queried from the images_data_dict dictionary in the same order as dat_ps\n",
    "for i in range(len(ps_id_at_ps_level)):\n",
    "    try:\n",
    "        images_at_ps_level_wona.append(images_data_dict[ps_id_at_ps_level[i]])\n",
    "    except:\n",
    "        mask[i] = False"
   ]
  },
  {
   "cell_type": "code",
   "execution_count": 136,
   "metadata": {},
   "outputs": [],
   "source": [
    "# keeps those data for which we also have a sat image\n",
    "dat_ps_wona = dat_ps[mask]"
   ]
  },
  {
   "cell_type": "code",
   "execution_count": 137,
   "metadata": {},
   "outputs": [
    {
     "name": "stdout",
     "output_type": "stream",
     "text": [
      "We do not have data for 6 sat images. \n",
      "\n"
     ]
    }
   ],
   "source": [
    "print('We do not have data for',len(ps_id_at_ps_level) - len(images_at_ps_level_wona),'sat images. \\n')"
   ]
  },
  {
   "cell_type": "code",
   "execution_count": 138,
   "metadata": {},
   "outputs": [],
   "source": [
    "# this generates the data we need for the model\n",
    "dat_ps_features_wona = dat_ps_wona.copy()\n",
    "turnout_at_ps_level_wona = list(dat_ps_features_wona.pop('turnout'))\n",
    "ps_id_at_ps_level_wona = list(dat_ps_features_wona.pop('psid'))\n",
    "\n"
   ]
  },
  {
   "cell_type": "markdown",
   "metadata": {},
   "source": [
    "Now: also kick out the data that would give away the turnout\n"
   ]
  },
  {
   "cell_type": "code",
   "execution_count": 139,
   "metadata": {},
   "outputs": [],
   "source": [
    "turnout_count_at_ps_level_wona = list(dat_ps_features_wona.pop('turnout_count'))\n",
    "registered_voters_at_ps_level_wona = list(dat_ps_features_wona.pop('registered_voters'))\n"
   ]
  },
  {
   "cell_type": "code",
   "execution_count": 140,
   "metadata": {},
   "outputs": [],
   "source": [
    "# reduce to the FE features, only\n",
    "# dat_ps_features_wona = dat_ps_features_wona.drop(columns = [\"turnout_count\", \"registered_voters\"])"
   ]
  },
  {
   "cell_type": "code",
   "execution_count": 141,
   "metadata": {},
   "outputs": [],
   "source": [
    "assert (dat_ps_features_wona.shape[0] == len(ps_id_at_ps_level_wona) == \n",
    "        len(images_at_ps_level_wona) == len(turnout_at_ps_level_wona)), 'Something went wrong in the data generation. There are different lengths'"
   ]
  },
  {
   "cell_type": "markdown",
   "metadata": {},
   "source": [
    "### Splitting the train test set"
   ]
  },
  {
   "cell_type": "code",
   "execution_count": 142,
   "metadata": {},
   "outputs": [],
   "source": [
    "# defines the new random order\n",
    "new_order = random.sample(range(len(turnout_at_ps_level_wona)), len(turnout_at_ps_level_wona))"
   ]
  },
  {
   "cell_type": "code",
   "execution_count": 143,
   "metadata": {},
   "outputs": [],
   "source": [
    "# defines train-test-val size\n",
    "observed_ps_set_size = len(turnout_at_ps_level_wona)\n",
    "testval_set_size = math.floor(.1*observed_ps_set_size)\n",
    "# train_set_size = observed_ps_set_size - 2*testval_set_size\n",
    "train_set_size = observed_ps_set_size - testval_set_size"
   ]
  },
  {
   "cell_type": "code",
   "execution_count": 144,
   "metadata": {},
   "outputs": [],
   "source": [
    "# reshape images\n",
    "image_data_all_bands = np.stack(images_at_ps_level_wona, axis = 0)"
   ]
  },
  {
   "cell_type": "code",
   "execution_count": 145,
   "metadata": {},
   "outputs": [],
   "source": [
    "image_data_all_bands = image_data_all_bands.reshape((observed_ps_set_size, 96, 96, 7))"
   ]
  },
  {
   "cell_type": "markdown",
   "metadata": {},
   "source": [
    "#### train val test sat images"
   ]
  },
  {
   "cell_type": "code",
   "execution_count": 146,
   "metadata": {},
   "outputs": [],
   "source": [
    "train_images = image_data_all_bands[new_order[0:train_set_size],:,:,:].reshape(train_set_size, 96, 96, 7)\n",
    "# val_images = image_data_all_bands[new_order[train_set_size:(train_set_size+testval_set_size)],:,:,:].reshape((testval_set_size, 96, 96, 7))\n",
    "# test_images = image_data_all_bands[new_order[(train_set_size+testval_set_size):observed_ps_set_size],:,:,:].reshape((testval_set_size, 96, 96, 7))\n",
    "test_images = image_data_all_bands[new_order[train_set_size:observed_ps_set_size],:,:,:].reshape((testval_set_size, 96, 96, 7))"
   ]
  },
  {
   "cell_type": "markdown",
   "metadata": {},
   "source": [
    "#### train val test ps data"
   ]
  },
  {
   "cell_type": "code",
   "execution_count": 147,
   "metadata": {},
   "outputs": [],
   "source": [
    "train_ps_data = np.array(dat_ps_features_wona)[new_order[0:train_set_size],:]\n",
    "# val_ps_data = np.array(dat_ps_wona_features)[new_order[train_set_size:(train_set_size+testval_set_size)],:]\n",
    "# test_ps_data = np.array(dat_ps_wona_features)[new_order[(train_set_size+testval_set_size):observed_ps_set_size],:]\n",
    "test_ps_data = np.array(dat_ps_features_wona)[new_order[train_set_size:observed_ps_set_size],:]"
   ]
  },
  {
   "cell_type": "code",
   "execution_count": 148,
   "metadata": {},
   "outputs": [],
   "source": [
    "# normalise the data\n",
    "normalizer = Normalization()\n",
    "normalizer.adapt(np.array(train_ps_data))"
   ]
  },
  {
   "cell_type": "code",
   "execution_count": 149,
   "metadata": {},
   "outputs": [],
   "source": [
    "train_ps_data_normalized =normalizer(train_ps_data)\n",
    "test_ps_data_normalized =normalizer(test_ps_data)\n"
   ]
  },
  {
   "cell_type": "markdown",
   "metadata": {},
   "source": [
    "#### train val test labels"
   ]
  },
  {
   "cell_type": "code",
   "execution_count": 150,
   "metadata": {},
   "outputs": [],
   "source": [
    "train_labels = np.array([turnout_at_ps_level_wona[i] for i in new_order[0:train_set_size]])\n",
    "# val_labels = [turnout_at_ps_level_wona[i] for i in new_order[train_set_size:(train_set_size+testval_set_size)]]\n",
    "test_labels = np.array([turnout_at_ps_level_wona[i] for i in new_order[train_set_size:observed_ps_set_size]])"
   ]
  },
  {
   "cell_type": "code",
   "execution_count": 151,
   "metadata": {},
   "outputs": [],
   "source": [
    "# save the ids\n",
    "# e.g. to write the train_val_test split as json for eventual later use\n",
    "train_ps_id = [ps_id_at_ps_level_wona[i] for i in new_order[0:train_set_size]]\n",
    "# val_ps_id = [ps_id_at_ps_level_wona[i] for i in new_order[train_set_size:(train_set_size+testval_set_size)]]\n",
    "test_ps_id = [ps_id_at_ps_level_wona[i] for i in new_order[train_set_size:observed_ps_set_size]]"
   ]
  },
  {
   "cell_type": "markdown",
   "metadata": {},
   "source": [
    "# 2 Training Models\n",
    "## 2.1 CNN Sat Images"
   ]
  },
  {
   "cell_type": "code",
   "execution_count": 36,
   "metadata": {},
   "outputs": [],
   "source": [
    "\n",
    "def model2():\n",
    "    '''Insight: Going deeper than 5 layers here stops the learning '''\n",
    "    # new model\n",
    "    network = Sequential()\n",
    "    #--- Convolutional Layers\n",
    "    # Convolutional Layer\n",
    "    network.add(Conv2D(32, (3, 3), padding='same', activation='relu', input_shape=(96, 96, 7)))\n",
    "    network.add(BatchNormalization())\n",
    "    network.add(MaxPooling2D((2, 2)))\n",
    "    # Convolutional Layer\n",
    "    network.add(Conv2D(64, (3, 3), padding='same', activation='relu'))\n",
    "    network.add(BatchNormalization())\n",
    "    network.add(MaxPooling2D((2, 2)))\n",
    "    # Convolutional Layer\n",
    "    network.add(Conv2D(128, (3, 3), padding='same', activation='relu'))\n",
    "    network.add(BatchNormalization())\n",
    "    network.add(MaxPooling2D((2, 2)))\n",
    "    # Convolutional Layer\n",
    "    network.add(Conv2D(128, (3, 3), padding='same', activation='relu'))\n",
    "    network.add(BatchNormalization())\n",
    "    network.add(MaxPooling2D((2, 2)))\n",
    "    # Convolutional Layer\n",
    "    network.add(Conv2D(256, (3, 3), padding='same', activation='relu'))\n",
    "    network.add(BatchNormalization())\n",
    "    network.add(MaxPooling2D((2, 2)))\n",
    "    #--- Dense Layers\n",
    "    # Dense Layer\n",
    "    network.add(Dropout(.3))\n",
    "    network.add(Flatten())\n",
    "    network.add(Dense(512, activation='relu'))\n",
    "    # Dense Layer\n",
    "    network.add(Dropout(.4))\n",
    "    network.add(Dense(128, activation='relu'))\n",
    "    # Dense 3\n",
    "    network.add(Dense(1, activation='sigmoid'))\n",
    "    return(network)\n"
   ]
  },
  {
   "cell_type": "code",
   "execution_count": 37,
   "metadata": {},
   "outputs": [],
   "source": [
    "network = model2()"
   ]
  },
  {
   "cell_type": "code",
   "execution_count": 38,
   "metadata": {},
   "outputs": [],
   "source": [
    "optimizer = RMSprop()"
   ]
  },
  {
   "cell_type": "code",
   "execution_count": 39,
   "metadata": {},
   "outputs": [],
   "source": [
    "network.compile(optimizer=optimizer,\n",
    "                    loss='mse',\n",
    "                    metrics=['mae'])\n"
   ]
  },
  {
   "cell_type": "code",
   "execution_count": null,
   "metadata": {},
   "outputs": [],
   "source": []
  },
  {
   "cell_type": "code",
   "execution_count": 50,
   "metadata": {},
   "outputs": [],
   "source": [
    "best_model_path = '/Users/haui/Dropbox/Academia/Projects/voting_irregularities_local/vi_satellites_dev/code_sandbox_ca/best_models/temp_CNN_images.h5'\n",
    "# select best models, but with early stopping\n",
    "early_stopper = EarlyStopping(monitor='val_mae', patience=15,\n",
    "    mode='min', min_delta=0.0001)\n",
    "checkpoint = ModelCheckpoint(best_model_path, monitor='val_mae', verbose=1,\n",
    "    save_best_only=True, mode='min')\n",
    "callbacks_list = [early_stopper, checkpoint]\n"
   ]
  },
  {
   "cell_type": "code",
   "execution_count": 51,
   "metadata": {},
   "outputs": [],
   "source": [
    "\n",
    "os.environ['KMP_DUPLICATE_LIB_OK']='True'"
   ]
  },
  {
   "cell_type": "markdown",
   "metadata": {},
   "source": [
    "### Train"
   ]
  },
  {
   "cell_type": "code",
   "execution_count": 52,
   "metadata": {
    "scrolled": true
   },
   "outputs": [
    {
     "name": "stdout",
     "output_type": "stream",
     "text": [
      "Epoch 1/100\n",
      "1152/1152 [==============================] - 163s 140ms/step - loss: 0.0301 - mae: 0.1349 - val_loss: 0.0266 - val_mae: 0.1331\n",
      "\n",
      "Epoch 00001: val_mae improved from inf to 0.13312, saving model to /Users/haui/Dropbox/Academia/Projects/voting_irregularities_local/vi_satellites_dev/code_sandbox_ca/best_models/temp_CNN_images.h5\n",
      "Epoch 2/100\n",
      "1152/1152 [==============================] - 165s 143ms/step - loss: 0.0272 - mae: 0.1325 - val_loss: 0.0248 - val_mae: 0.1311\n",
      "\n",
      "Epoch 00002: val_mae improved from 0.13312 to 0.13114, saving model to /Users/haui/Dropbox/Academia/Projects/voting_irregularities_local/vi_satellites_dev/code_sandbox_ca/best_models/temp_CNN_images.h5\n",
      "Epoch 3/100\n",
      "1152/1152 [==============================] - 166s 144ms/step - loss: 0.0235 - mae: 0.1183 - val_loss: 0.0107 - val_mae: 0.0757\n",
      "\n",
      "Epoch 00003: val_mae improved from 0.13114 to 0.07574, saving model to /Users/haui/Dropbox/Academia/Projects/voting_irregularities_local/vi_satellites_dev/code_sandbox_ca/best_models/temp_CNN_images.h5\n",
      "Epoch 4/100\n",
      "1152/1152 [==============================] - 163s 141ms/step - loss: 0.0103 - mae: 0.0713 - val_loss: 0.0118 - val_mae: 0.0833\n",
      "\n",
      "Epoch 00004: val_mae did not improve from 0.07574\n",
      "Epoch 5/100\n",
      "1152/1152 [==============================] - 162s 141ms/step - loss: 0.0084 - mae: 0.0635 - val_loss: 0.0093 - val_mae: 0.0642\n",
      "\n",
      "Epoch 00005: val_mae improved from 0.07574 to 0.06424, saving model to /Users/haui/Dropbox/Academia/Projects/voting_irregularities_local/vi_satellites_dev/code_sandbox_ca/best_models/temp_CNN_images.h5\n",
      "Epoch 6/100\n",
      "1152/1152 [==============================] - 164s 142ms/step - loss: 0.0075 - mae: 0.0602 - val_loss: 0.0081 - val_mae: 0.0595\n",
      "\n",
      "Epoch 00006: val_mae improved from 0.06424 to 0.05947, saving model to /Users/haui/Dropbox/Academia/Projects/voting_irregularities_local/vi_satellites_dev/code_sandbox_ca/best_models/temp_CNN_images.h5\n",
      "Epoch 7/100\n",
      "1152/1152 [==============================] - 168s 146ms/step - loss: 0.0072 - mae: 0.0584 - val_loss: 0.0119 - val_mae: 0.0836\n",
      "\n",
      "Epoch 00007: val_mae did not improve from 0.05947\n",
      "Epoch 8/100\n",
      "1152/1152 [==============================] - 166s 144ms/step - loss: 0.0069 - mae: 0.0573 - val_loss: 0.0158 - val_mae: 0.1083\n",
      "\n",
      "Epoch 00008: val_mae did not improve from 0.05947\n",
      "Epoch 9/100\n",
      "1152/1152 [==============================] - 164s 142ms/step - loss: 0.0069 - mae: 0.0571 - val_loss: 0.0089 - val_mae: 0.0726\n",
      "\n",
      "Epoch 00009: val_mae did not improve from 0.05947\n",
      "Epoch 10/100\n",
      "1152/1152 [==============================] - 165s 143ms/step - loss: 0.0064 - mae: 0.0552 - val_loss: 0.0069 - val_mae: 0.0580\n",
      "\n",
      "Epoch 00010: val_mae improved from 0.05947 to 0.05797, saving model to /Users/haui/Dropbox/Academia/Projects/voting_irregularities_local/vi_satellites_dev/code_sandbox_ca/best_models/temp_CNN_images.h5\n",
      "Epoch 11/100\n",
      "1152/1152 [==============================] - 171s 148ms/step - loss: 0.0067 - mae: 0.0565 - val_loss: 0.0098 - val_mae: 0.0686\n",
      "\n",
      "Epoch 00011: val_mae did not improve from 0.05797\n",
      "Epoch 12/100\n",
      "1152/1152 [==============================] - 174s 151ms/step - loss: 0.0065 - mae: 0.0545 - val_loss: 0.0141 - val_mae: 0.0885\n",
      "\n",
      "Epoch 00012: val_mae did not improve from 0.05797\n",
      "Epoch 13/100\n",
      "1152/1152 [==============================] - 168s 146ms/step - loss: 0.0062 - mae: 0.0538 - val_loss: 0.0110 - val_mae: 0.0869\n",
      "\n",
      "Epoch 00013: val_mae did not improve from 0.05797\n",
      "Epoch 14/100\n",
      "1152/1152 [==============================] - 170s 147ms/step - loss: 0.0064 - mae: 0.0540 - val_loss: 0.0069 - val_mae: 0.0600\n",
      "\n",
      "Epoch 00014: val_mae did not improve from 0.05797\n",
      "Epoch 15/100\n",
      "1152/1152 [==============================] - 171s 149ms/step - loss: 0.0062 - mae: 0.0535 - val_loss: 0.0106 - val_mae: 0.0777\n",
      "\n",
      "Epoch 00015: val_mae did not improve from 0.05797\n",
      "Epoch 16/100\n",
      "1152/1152 [==============================] - 176s 152ms/step - loss: 0.0061 - mae: 0.0528 - val_loss: 0.0116 - val_mae: 0.0801\n",
      "\n",
      "Epoch 00016: val_mae did not improve from 0.05797\n",
      "Epoch 17/100\n",
      "1152/1152 [==============================] - 173s 150ms/step - loss: 0.0063 - mae: 0.0536 - val_loss: 0.0081 - val_mae: 0.0668\n",
      "\n",
      "Epoch 00017: val_mae did not improve from 0.05797\n",
      "Epoch 18/100\n",
      "1152/1152 [==============================] - 168s 146ms/step - loss: 0.0059 - mae: 0.0524 - val_loss: 0.0127 - val_mae: 0.0910\n",
      "\n",
      "Epoch 00018: val_mae did not improve from 0.05797\n",
      "Epoch 19/100\n",
      "1152/1152 [==============================] - 176s 153ms/step - loss: 0.0063 - mae: 0.0530 - val_loss: 0.0082 - val_mae: 0.0636\n",
      "\n",
      "Epoch 00019: val_mae did not improve from 0.05797\n",
      "Epoch 20/100\n",
      "1152/1152 [==============================] - 170s 147ms/step - loss: 0.0061 - mae: 0.0523 - val_loss: 0.0131 - val_mae: 0.0835\n",
      "\n",
      "Epoch 00020: val_mae did not improve from 0.05797\n",
      "Epoch 21/100\n",
      "1152/1152 [==============================] - 171s 149ms/step - loss: 0.0061 - mae: 0.0525 - val_loss: 0.0080 - val_mae: 0.0582\n",
      "\n",
      "Epoch 00021: val_mae did not improve from 0.05797\n",
      "Epoch 22/100\n",
      "1152/1152 [==============================] - 169s 147ms/step - loss: 0.0059 - mae: 0.0517 - val_loss: 0.0132 - val_mae: 0.0819\n",
      "\n",
      "Epoch 00022: val_mae did not improve from 0.05797\n",
      "Epoch 23/100\n",
      "1152/1152 [==============================] - 167s 145ms/step - loss: 0.0059 - mae: 0.0516 - val_loss: 0.0063 - val_mae: 0.0564\n",
      "\n",
      "Epoch 00023: val_mae improved from 0.05797 to 0.05637, saving model to /Users/haui/Dropbox/Academia/Projects/voting_irregularities_local/vi_satellites_dev/code_sandbox_ca/best_models/temp_CNN_images.h5\n",
      "Epoch 24/100\n",
      "1152/1152 [==============================] - 173s 150ms/step - loss: 0.0059 - mae: 0.0517 - val_loss: 0.0065 - val_mae: 0.0548\n",
      "\n",
      "Epoch 00024: val_mae improved from 0.05637 to 0.05476, saving model to /Users/haui/Dropbox/Academia/Projects/voting_irregularities_local/vi_satellites_dev/code_sandbox_ca/best_models/temp_CNN_images.h5\n",
      "Epoch 25/100\n",
      "1152/1152 [==============================] - 169s 147ms/step - loss: 0.0060 - mae: 0.0517 - val_loss: 0.0105 - val_mae: 0.0721\n",
      "\n",
      "Epoch 00025: val_mae did not improve from 0.05476\n",
      "Epoch 26/100\n",
      "1152/1152 [==============================] - 172s 149ms/step - loss: 0.0058 - mae: 0.0515 - val_loss: 0.0060 - val_mae: 0.0527\n",
      "\n",
      "Epoch 00026: val_mae improved from 0.05476 to 0.05272, saving model to /Users/haui/Dropbox/Academia/Projects/voting_irregularities_local/vi_satellites_dev/code_sandbox_ca/best_models/temp_CNN_images.h5\n",
      "Epoch 27/100\n",
      "1152/1152 [==============================] - 168s 146ms/step - loss: 0.0057 - mae: 0.0506 - val_loss: 0.0089 - val_mae: 0.0756\n",
      "\n",
      "Epoch 00027: val_mae did not improve from 0.05272\n",
      "Epoch 28/100\n",
      "1152/1152 [==============================] - 166s 144ms/step - loss: 0.0060 - mae: 0.0513 - val_loss: 0.0108 - val_mae: 0.0805\n",
      "\n",
      "Epoch 00028: val_mae did not improve from 0.05272\n",
      "Epoch 29/100\n",
      "1152/1152 [==============================] - 166s 144ms/step - loss: 0.0056 - mae: 0.0502 - val_loss: 0.0088 - val_mae: 0.0720\n",
      "\n",
      "Epoch 00029: val_mae did not improve from 0.05272\n",
      "Epoch 30/100\n",
      "1152/1152 [==============================] - 165s 144ms/step - loss: 0.0056 - mae: 0.0503 - val_loss: 0.0057 - val_mae: 0.0532\n",
      "\n",
      "Epoch 00030: val_mae did not improve from 0.05272\n",
      "Epoch 31/100\n",
      "1152/1152 [==============================] - 167s 145ms/step - loss: 0.0055 - mae: 0.0491 - val_loss: 0.0066 - val_mae: 0.0548\n",
      "\n",
      "Epoch 00031: val_mae did not improve from 0.05272\n",
      "Epoch 32/100\n",
      "1152/1152 [==============================] - 167s 145ms/step - loss: 0.0057 - mae: 0.0503 - val_loss: 0.0085 - val_mae: 0.0606\n",
      "\n",
      "Epoch 00032: val_mae did not improve from 0.05272\n",
      "Epoch 33/100\n",
      "1152/1152 [==============================] - 166s 144ms/step - loss: 0.0058 - mae: 0.0506 - val_loss: 0.0127 - val_mae: 0.0886\n",
      "\n",
      "Epoch 00033: val_mae did not improve from 0.05272\n",
      "Epoch 34/100\n",
      "1152/1152 [==============================] - 175s 152ms/step - loss: 0.0054 - mae: 0.0491 - val_loss: 0.0076 - val_mae: 0.0556\n",
      "\n",
      "Epoch 00034: val_mae did not improve from 0.05272\n",
      "Epoch 35/100\n",
      "1152/1152 [==============================] - 177s 153ms/step - loss: 0.0057 - mae: 0.0496 - val_loss: 0.0087 - val_mae: 0.0700\n",
      "\n",
      "Epoch 00035: val_mae did not improve from 0.05272\n",
      "Epoch 36/100\n",
      "1152/1152 [==============================] - 179s 155ms/step - loss: 0.0054 - mae: 0.0494 - val_loss: 0.0081 - val_mae: 0.0713\n",
      "\n",
      "Epoch 00036: val_mae did not improve from 0.05272\n",
      "Epoch 37/100\n"
     ]
    },
    {
     "name": "stdout",
     "output_type": "stream",
     "text": [
      "1152/1152 [==============================] - 172s 149ms/step - loss: 0.0055 - mae: 0.0491 - val_loss: 0.0088 - val_mae: 0.0627\n",
      "\n",
      "Epoch 00037: val_mae did not improve from 0.05272\n",
      "Epoch 38/100\n",
      "1152/1152 [==============================] - 165s 144ms/step - loss: 0.0054 - mae: 0.0481 - val_loss: 0.0072 - val_mae: 0.0608\n",
      "\n",
      "Epoch 00038: val_mae did not improve from 0.05272\n",
      "Epoch 39/100\n",
      "1152/1152 [==============================] - 167s 145ms/step - loss: 0.0052 - mae: 0.0478 - val_loss: 0.0096 - val_mae: 0.0725\n",
      "\n",
      "Epoch 00039: val_mae did not improve from 0.05272\n",
      "Epoch 40/100\n",
      "1152/1152 [==============================] - 166s 144ms/step - loss: 0.0051 - mae: 0.0480 - val_loss: 0.0085 - val_mae: 0.0709\n",
      "\n",
      "Epoch 00040: val_mae did not improve from 0.05272\n",
      "Epoch 41/100\n",
      "1152/1152 [==============================] - 166s 144ms/step - loss: 0.0050 - mae: 0.0477 - val_loss: 0.0086 - val_mae: 0.0615\n",
      "\n",
      "Epoch 00041: val_mae did not improve from 0.05272\n"
     ]
    }
   ],
   "source": [
    "\n",
    "# do the work\n",
    "history = network.fit(train_images, train_labels,\n",
    "            epochs=100 , batch_size=16, callbacks=callbacks_list,\n",
    "            validation_split=0.1)\n"
   ]
  },
  {
   "cell_type": "code",
   "execution_count": 58,
   "metadata": {},
   "outputs": [],
   "source": [
    "import matplotlib.pyplot as plt\n",
    "\n",
    "def plot_loss(history):\n",
    "  plt.plot(history.history['loss'], label='loss')\n",
    "  plt.plot(history.history['val_loss'], label='val_loss')\n",
    "  plt.ylim([0, .05])\n",
    "  plt.xlabel('Epoch')\n",
    "  plt.ylabel('Error [percentage]')\n",
    "  plt.legend()\n",
    "  plt.grid(True)\n"
   ]
  },
  {
   "cell_type": "code",
   "execution_count": 59,
   "metadata": {},
   "outputs": [
    {
     "data": {
      "image/png": "[encoded data removed]",
      "text/plain": [
       "<Figure size 432x288 with 1 Axes>"
      ]
     },
     "metadata": {
      "needs_background": "light"
     },
     "output_type": "display_data"
    }
   ],
   "source": [
    "plot_loss(history)"
   ]
  },
  {
   "cell_type": "code",
   "execution_count": null,
   "metadata": {},
   "outputs": [],
   "source": []
  },
  {
   "cell_type": "code",
   "execution_count": 60,
   "metadata": {},
   "outputs": [],
   "source": [
    "network.load_weights(best_model_path)\n"
   ]
  },
  {
   "cell_type": "code",
   "execution_count": 61,
   "metadata": {},
   "outputs": [],
   "source": [
    "\n",
    "network.compile(optimizer=optimizer,\n",
    "                loss='mse',\n",
    "                metrics=['mae'])\n",
    "\n"
   ]
  },
  {
   "cell_type": "code",
   "execution_count": 233,
   "metadata": {},
   "outputs": [],
   "source": [
    "predictions_images = network.predict(test_images).flatten()"
   ]
  },
  {
   "cell_type": "code",
   "execution_count": 234,
   "metadata": {},
   "outputs": [
    {
     "data": {
      "text/plain": [
       "array([0.8929356 , 0.85794246, 0.8995224 , ..., 0.9264778 , 0.83635473,\n",
       "       0.9238906 ], dtype=float32)"
      ]
     },
     "execution_count": 234,
     "metadata": {},
     "output_type": "execute_result"
    }
   ],
   "source": [
    "predictions_images"
   ]
  },
  {
   "cell_type": "code",
   "execution_count": null,
   "metadata": {},
   "outputs": [],
   "source": []
  },
  {
   "cell_type": "code",
   "execution_count": 235,
   "metadata": {},
   "outputs": [
    {
     "name": "stdout",
     "output_type": "stream",
     "text": [
      "69/69 [==============================] - 5s 66ms/step - loss: 0.0061 - mae: 0.0528\n"
     ]
    }
   ],
   "source": [
    "results = network.evaluate(test_images, test_labels)"
   ]
  },
  {
   "cell_type": "code",
   "execution_count": 236,
   "metadata": {},
   "outputs": [
    {
     "name": "stdout",
     "output_type": "stream",
     "text": [
      "test loss, test MAE: [0.006120300851762295, 0.05279027670621872]\n"
     ]
    }
   ],
   "source": [
    "print(\"test loss, test MAE:\", results)\n"
   ]
  },
  {
   "cell_type": "code",
   "execution_count": 237,
   "metadata": {},
   "outputs": [
    {
     "data": {
      "image/png": "[encoded data removed]",
      "text/plain": [
       "<Figure size 432x288 with 1 Axes>"
      ]
     },
     "metadata": {
      "needs_background": "light"
     },
     "output_type": "display_data"
    }
   ],
   "source": [
    "# test_predictions = network.predict(test_images)\n",
    "\n",
    "a = plt.axes(aspect='equal')\n",
    "plt.scatter(test_labels, predictions_images)\n",
    "plt.xlabel('True Values [turnout in percent]')\n",
    "plt.ylabel('Predictions [turnout in percent]')\n",
    "lims = [0, 1]\n",
    "plt.xlim(lims)\n",
    "plt.ylim(lims)\n",
    "_ = plt.plot(lims, lims)"
   ]
  },
  {
   "cell_type": "code",
   "execution_count": null,
   "metadata": {},
   "outputs": [],
   "source": []
  },
  {
   "cell_type": "code",
   "execution_count": null,
   "metadata": {},
   "outputs": [],
   "source": []
  },
  {
   "cell_type": "code",
   "execution_count": null,
   "metadata": {},
   "outputs": [],
   "source": []
  },
  {
   "cell_type": "code",
   "execution_count": null,
   "metadata": {},
   "outputs": [],
   "source": []
  },
  {
   "cell_type": "code",
   "execution_count": null,
   "metadata": {},
   "outputs": [],
   "source": []
  },
  {
   "cell_type": "code",
   "execution_count": null,
   "metadata": {},
   "outputs": [],
   "source": []
  },
  {
   "cell_type": "markdown",
   "metadata": {},
   "source": [
    "## 2.2 DNN Micro Data "
   ]
  },
  {
   "cell_type": "code",
   "execution_count": 152,
   "metadata": {},
   "outputs": [],
   "source": [
    "normalizer = preprocessing.Normalization()\n",
    "normalizer.adapt(np.array(train_ps_data))\n",
    "\n",
    "train_ps_data_normalized =normalizer(train_ps_data)\n",
    "test_ps_data_normalized =normalizer(test_ps_data)\n",
    "\n"
   ]
  },
  {
   "cell_type": "code",
   "execution_count": 108,
   "metadata": {},
   "outputs": [],
   "source": [
    "# network.compile(optimizer=optimizer,\n",
    "#                 loss='mse',\n",
    "#                 metrics=['mae'])"
   ]
  },
  {
   "cell_type": "code",
   "execution_count": 207,
   "metadata": {},
   "outputs": [],
   "source": [
    "def build_and_compile_model(norm):\n",
    "  model = keras.Sequential([\n",
    "      norm,\n",
    "      layers.Dense(64, activation='relu'),\n",
    "      layers.Dense(64, activation='relu'),\n",
    "      layers.Dense(1, activation = 'sigmoid')\n",
    "  ])\n",
    "\n",
    "  model.compile(loss='mae',\n",
    "                metrics=['mae'],\n",
    "                optimizer=tf.keras.optimizers.Adam(0.001))\n",
    "  return model"
   ]
  },
  {
   "cell_type": "code",
   "execution_count": 208,
   "metadata": {},
   "outputs": [
    {
     "name": "stdout",
     "output_type": "stream",
     "text": [
      "Model: \"sequential_13\"\n",
      "_________________________________________________________________\n",
      "Layer (type)                 Output Shape              Param #   \n",
      "=================================================================\n",
      "normalization_7 (Normalizati (None, 56)                113       \n",
      "_________________________________________________________________\n",
      "dense_39 (Dense)             (None, 64)                3648      \n",
      "_________________________________________________________________\n",
      "dense_40 (Dense)             (None, 64)                4160      \n",
      "_________________________________________________________________\n",
      "dense_41 (Dense)             (None, 1)                 65        \n",
      "=================================================================\n",
      "Total params: 7,986\n",
      "Trainable params: 7,873\n",
      "Non-trainable params: 113\n",
      "_________________________________________________________________\n"
     ]
    }
   ],
   "source": [
    "dnn_model = build_and_compile_model(normalizer)\n",
    "dnn_model.summary()\n"
   ]
  },
  {
   "cell_type": "code",
   "execution_count": 209,
   "metadata": {},
   "outputs": [],
   "source": [
    "best_model_path = '/Users/haui/Dropbox/Academia/Projects/voting_irregularities_local/vi_satellites_dev/code_sandbox_ca/best_models/temp_DNN_micro.h5'\n",
    "# select best models, but with early stopping\n",
    "early_stopper = EarlyStopping(monitor='val_mae', patience=40,\n",
    "    mode='min', min_delta=0.000001)\n",
    "checkpoint = ModelCheckpoint(best_model_path, monitor='val_mae', verbose=1,\n",
    "    save_best_only=True, mode='min')\n",
    "callbacks_list = [early_stopper, checkpoint]\n"
   ]
  },
  {
   "cell_type": "code",
   "execution_count": 210,
   "metadata": {},
   "outputs": [
    {
     "name": "stdout",
     "output_type": "stream",
     "text": [
      "Epoch 1/200\n",
      "557/557 [==============================] - 1s 957us/step - loss: 0.0591 - mae: 0.0591 - val_loss: 0.0403 - val_mae: 0.0403\n",
      "\n",
      "Epoch 00001: val_mae improved from inf to 0.04030, saving model to /Users/haui/Dropbox/Academia/Projects/voting_irregularities_local/vi_satellites_dev/code_sandbox_ca/best_models/temp_DNN_micro.h5\n",
      "Epoch 2/200\n",
      "557/557 [==============================] - 0s 781us/step - loss: 0.0400 - mae: 0.0400 - val_loss: 0.0389 - val_mae: 0.0389\n",
      "\n",
      "Epoch 00002: val_mae improved from 0.04030 to 0.03894, saving model to /Users/haui/Dropbox/Academia/Projects/voting_irregularities_local/vi_satellites_dev/code_sandbox_ca/best_models/temp_DNN_micro.h5\n",
      "Epoch 3/200\n",
      "557/557 [==============================] - 0s 783us/step - loss: 0.0398 - mae: 0.0398 - val_loss: 0.0392 - val_mae: 0.0392\n",
      "\n",
      "Epoch 00003: val_mae did not improve from 0.03894\n",
      "Epoch 4/200\n",
      "557/557 [==============================] - 0s 798us/step - loss: 0.0399 - mae: 0.0399 - val_loss: 0.0381 - val_mae: 0.0381\n",
      "\n",
      "Epoch 00004: val_mae improved from 0.03894 to 0.03808, saving model to /Users/haui/Dropbox/Academia/Projects/voting_irregularities_local/vi_satellites_dev/code_sandbox_ca/best_models/temp_DNN_micro.h5\n",
      "Epoch 5/200\n",
      "557/557 [==============================] - 0s 754us/step - loss: 0.0391 - mae: 0.0391 - val_loss: 0.0378 - val_mae: 0.0378\n",
      "\n",
      "Epoch 00005: val_mae improved from 0.03808 to 0.03779, saving model to /Users/haui/Dropbox/Academia/Projects/voting_irregularities_local/vi_satellites_dev/code_sandbox_ca/best_models/temp_DNN_micro.h5\n",
      "Epoch 6/200\n",
      "557/557 [==============================] - 0s 722us/step - loss: 0.0387 - mae: 0.0387 - val_loss: 0.0375 - val_mae: 0.0375\n",
      "\n",
      "Epoch 00006: val_mae improved from 0.03779 to 0.03749, saving model to /Users/haui/Dropbox/Academia/Projects/voting_irregularities_local/vi_satellites_dev/code_sandbox_ca/best_models/temp_DNN_micro.h5\n",
      "Epoch 7/200\n",
      "557/557 [==============================] - 0s 759us/step - loss: 0.0398 - mae: 0.0398 - val_loss: 0.0391 - val_mae: 0.0391\n",
      "\n",
      "Epoch 00007: val_mae did not improve from 0.03749\n",
      "Epoch 8/200\n",
      "557/557 [==============================] - 0s 845us/step - loss: 0.0385 - mae: 0.0385 - val_loss: 0.0385 - val_mae: 0.0385\n",
      "\n",
      "Epoch 00008: val_mae did not improve from 0.03749\n",
      "Epoch 9/200\n",
      "557/557 [==============================] - 0s 852us/step - loss: 0.0385 - mae: 0.0385 - val_loss: 0.0376 - val_mae: 0.0376\n",
      "\n",
      "Epoch 00009: val_mae did not improve from 0.03749\n",
      "Epoch 10/200\n",
      "557/557 [==============================] - 0s 723us/step - loss: 0.0389 - mae: 0.0389 - val_loss: 0.0377 - val_mae: 0.0377\n",
      "\n",
      "Epoch 00010: val_mae did not improve from 0.03749\n",
      "Epoch 11/200\n",
      "557/557 [==============================] - 0s 808us/step - loss: 0.0381 - mae: 0.0381 - val_loss: 0.0377 - val_mae: 0.0377\n",
      "\n",
      "Epoch 00011: val_mae did not improve from 0.03749\n",
      "Epoch 12/200\n",
      "557/557 [==============================] - 0s 760us/step - loss: 0.0379 - mae: 0.0379 - val_loss: 0.0374 - val_mae: 0.0374\n",
      "\n",
      "Epoch 00012: val_mae improved from 0.03749 to 0.03737, saving model to /Users/haui/Dropbox/Academia/Projects/voting_irregularities_local/vi_satellites_dev/code_sandbox_ca/best_models/temp_DNN_micro.h5\n",
      "Epoch 13/200\n",
      "557/557 [==============================] - 1s 1ms/step - loss: 0.0382 - mae: 0.0382 - val_loss: 0.0379 - val_mae: 0.0379\n",
      "\n",
      "Epoch 00013: val_mae did not improve from 0.03737\n",
      "Epoch 14/200\n",
      "557/557 [==============================] - 0s 797us/step - loss: 0.0378 - mae: 0.0378 - val_loss: 0.0377 - val_mae: 0.0377\n",
      "\n",
      "Epoch 00014: val_mae did not improve from 0.03737\n",
      "Epoch 15/200\n",
      "557/557 [==============================] - 0s 765us/step - loss: 0.0379 - mae: 0.0379 - val_loss: 0.0380 - val_mae: 0.0380\n",
      "\n",
      "Epoch 00015: val_mae did not improve from 0.03737\n",
      "Epoch 16/200\n",
      "557/557 [==============================] - 0s 717us/step - loss: 0.0377 - mae: 0.0377 - val_loss: 0.0380 - val_mae: 0.0380\n",
      "\n",
      "Epoch 00016: val_mae did not improve from 0.03737\n",
      "Epoch 17/200\n",
      "557/557 [==============================] - 0s 730us/step - loss: 0.0382 - mae: 0.0382 - val_loss: 0.0375 - val_mae: 0.0375\n",
      "\n",
      "Epoch 00017: val_mae did not improve from 0.03737\n",
      "Epoch 18/200\n",
      "557/557 [==============================] - 0s 771us/step - loss: 0.0376 - mae: 0.0376 - val_loss: 0.0374 - val_mae: 0.0374\n",
      "\n",
      "Epoch 00018: val_mae did not improve from 0.03737\n",
      "Epoch 19/200\n",
      "557/557 [==============================] - 0s 714us/step - loss: 0.0370 - mae: 0.0370 - val_loss: 0.0377 - val_mae: 0.0377\n",
      "\n",
      "Epoch 00019: val_mae did not improve from 0.03737\n",
      "Epoch 20/200\n",
      "557/557 [==============================] - 0s 746us/step - loss: 0.0383 - mae: 0.0383 - val_loss: 0.0375 - val_mae: 0.0375\n",
      "\n",
      "Epoch 00020: val_mae did not improve from 0.03737\n",
      "Epoch 21/200\n",
      "557/557 [==============================] - 0s 721us/step - loss: 0.0373 - mae: 0.0373 - val_loss: 0.0372 - val_mae: 0.0372\n",
      "\n",
      "Epoch 00021: val_mae improved from 0.03737 to 0.03715, saving model to /Users/haui/Dropbox/Academia/Projects/voting_irregularities_local/vi_satellites_dev/code_sandbox_ca/best_models/temp_DNN_micro.h5\n",
      "Epoch 22/200\n",
      "557/557 [==============================] - 0s 772us/step - loss: 0.0374 - mae: 0.0374 - val_loss: 0.0370 - val_mae: 0.0370\n",
      "\n",
      "Epoch 00022: val_mae improved from 0.03715 to 0.03700, saving model to /Users/haui/Dropbox/Academia/Projects/voting_irregularities_local/vi_satellites_dev/code_sandbox_ca/best_models/temp_DNN_micro.h5\n",
      "Epoch 23/200\n",
      "557/557 [==============================] - 0s 728us/step - loss: 0.0383 - mae: 0.0383 - val_loss: 0.0372 - val_mae: 0.0372\n",
      "\n",
      "Epoch 00023: val_mae did not improve from 0.03700\n",
      "Epoch 24/200\n",
      "557/557 [==============================] - 0s 710us/step - loss: 0.0380 - mae: 0.0380 - val_loss: 0.0373 - val_mae: 0.0373\n",
      "\n",
      "Epoch 00024: val_mae did not improve from 0.03700\n",
      "Epoch 25/200\n",
      "557/557 [==============================] - 0s 737us/step - loss: 0.0376 - mae: 0.0376 - val_loss: 0.0376 - val_mae: 0.0376\n",
      "\n",
      "Epoch 00025: val_mae did not improve from 0.03700\n",
      "Epoch 26/200\n",
      "557/557 [==============================] - 0s 718us/step - loss: 0.0376 - mae: 0.0376 - val_loss: 0.0369 - val_mae: 0.0369\n",
      "\n",
      "Epoch 00026: val_mae improved from 0.03700 to 0.03691, saving model to /Users/haui/Dropbox/Academia/Projects/voting_irregularities_local/vi_satellites_dev/code_sandbox_ca/best_models/temp_DNN_micro.h5\n",
      "Epoch 27/200\n",
      "557/557 [==============================] - 0s 733us/step - loss: 0.0376 - mae: 0.0376 - val_loss: 0.0375 - val_mae: 0.0375\n",
      "\n",
      "Epoch 00027: val_mae did not improve from 0.03691\n",
      "Epoch 28/200\n",
      "557/557 [==============================] - 0s 723us/step - loss: 0.0369 - mae: 0.0369 - val_loss: 0.0372 - val_mae: 0.0372\n",
      "\n",
      "Epoch 00028: val_mae did not improve from 0.03691\n",
      "Epoch 29/200\n",
      "557/557 [==============================] - 0s 737us/step - loss: 0.0376 - mae: 0.0376 - val_loss: 0.0368 - val_mae: 0.0368\n",
      "\n",
      "Epoch 00029: val_mae improved from 0.03691 to 0.03682, saving model to /Users/haui/Dropbox/Academia/Projects/voting_irregularities_local/vi_satellites_dev/code_sandbox_ca/best_models/temp_DNN_micro.h5\n",
      "Epoch 30/200\n",
      "557/557 [==============================] - 0s 734us/step - loss: 0.0373 - mae: 0.0373 - val_loss: 0.0369 - val_mae: 0.0369\n",
      "\n",
      "Epoch 00030: val_mae did not improve from 0.03682\n",
      "Epoch 31/200\n",
      "557/557 [==============================] - 0s 719us/step - loss: 0.0372 - mae: 0.0372 - val_loss: 0.0372 - val_mae: 0.0372\n",
      "\n",
      "Epoch 00031: val_mae did not improve from 0.03682\n",
      "Epoch 32/200\n",
      "557/557 [==============================] - 0s 752us/step - loss: 0.0376 - mae: 0.0376 - val_loss: 0.0374 - val_mae: 0.0374\n",
      "\n",
      "Epoch 00032: val_mae did not improve from 0.03682\n",
      "Epoch 33/200\n",
      "557/557 [==============================] - 0s 716us/step - loss: 0.0371 - mae: 0.0371 - val_loss: 0.0369 - val_mae: 0.0369\n",
      "\n",
      "Epoch 00033: val_mae did not improve from 0.03682\n",
      "Epoch 34/200\n",
      "557/557 [==============================] - 0s 724us/step - loss: 0.0370 - mae: 0.0370 - val_loss: 0.0381 - val_mae: 0.0381\n",
      "\n",
      "Epoch 00034: val_mae did not improve from 0.03682\n",
      "Epoch 35/200\n",
      "557/557 [==============================] - 0s 724us/step - loss: 0.0363 - mae: 0.0363 - val_loss: 0.0369 - val_mae: 0.0369\n",
      "\n",
      "Epoch 00035: val_mae did not improve from 0.03682\n",
      "Epoch 36/200\n",
      "557/557 [==============================] - 0s 709us/step - loss: 0.0372 - mae: 0.0372 - val_loss: 0.0373 - val_mae: 0.0373\n",
      "\n",
      "Epoch 00036: val_mae did not improve from 0.03682\n",
      "Epoch 37/200\n"
     ]
    },
    {
     "name": "stdout",
     "output_type": "stream",
     "text": [
      "557/557 [==============================] - 0s 725us/step - loss: 0.0378 - mae: 0.0378 - val_loss: 0.0371 - val_mae: 0.0371\n",
      "\n",
      "Epoch 00037: val_mae did not improve from 0.03682\n",
      "Epoch 38/200\n",
      "557/557 [==============================] - 0s 781us/step - loss: 0.0371 - mae: 0.0371 - val_loss: 0.0374 - val_mae: 0.0374\n",
      "\n",
      "Epoch 00038: val_mae did not improve from 0.03682\n",
      "Epoch 39/200\n",
      "557/557 [==============================] - 0s 774us/step - loss: 0.0366 - mae: 0.0366 - val_loss: 0.0374 - val_mae: 0.0374\n",
      "\n",
      "Epoch 00039: val_mae did not improve from 0.03682\n",
      "Epoch 40/200\n",
      "557/557 [==============================] - 0s 711us/step - loss: 0.0367 - mae: 0.0367 - val_loss: 0.0372 - val_mae: 0.0372\n",
      "\n",
      "Epoch 00040: val_mae did not improve from 0.03682\n",
      "Epoch 41/200\n",
      "557/557 [==============================] - 0s 707us/step - loss: 0.0368 - mae: 0.0368 - val_loss: 0.0368 - val_mae: 0.0368\n",
      "\n",
      "Epoch 00041: val_mae improved from 0.03682 to 0.03682, saving model to /Users/haui/Dropbox/Academia/Projects/voting_irregularities_local/vi_satellites_dev/code_sandbox_ca/best_models/temp_DNN_micro.h5\n",
      "Epoch 42/200\n",
      "557/557 [==============================] - 0s 766us/step - loss: 0.0363 - mae: 0.0363 - val_loss: 0.0373 - val_mae: 0.0373\n",
      "\n",
      "Epoch 00042: val_mae did not improve from 0.03682\n",
      "Epoch 43/200\n",
      "557/557 [==============================] - 0s 709us/step - loss: 0.0369 - mae: 0.0369 - val_loss: 0.0370 - val_mae: 0.0370\n",
      "\n",
      "Epoch 00043: val_mae did not improve from 0.03682\n",
      "Epoch 44/200\n",
      "557/557 [==============================] - 0s 733us/step - loss: 0.0365 - mae: 0.0365 - val_loss: 0.0373 - val_mae: 0.0373\n",
      "\n",
      "Epoch 00044: val_mae did not improve from 0.03682\n",
      "Epoch 45/200\n",
      "557/557 [==============================] - 0s 711us/step - loss: 0.0368 - mae: 0.0368 - val_loss: 0.0375 - val_mae: 0.0375\n",
      "\n",
      "Epoch 00045: val_mae did not improve from 0.03682\n",
      "Epoch 46/200\n",
      "557/557 [==============================] - 0s 710us/step - loss: 0.0363 - mae: 0.0363 - val_loss: 0.0379 - val_mae: 0.0379\n",
      "\n",
      "Epoch 00046: val_mae did not improve from 0.03682\n",
      "Epoch 47/200\n",
      "557/557 [==============================] - 0s 815us/step - loss: 0.0368 - mae: 0.0368 - val_loss: 0.0372 - val_mae: 0.0372\n",
      "\n",
      "Epoch 00047: val_mae did not improve from 0.03682\n",
      "Epoch 48/200\n",
      "557/557 [==============================] - 0s 829us/step - loss: 0.0368 - mae: 0.0368 - val_loss: 0.0374 - val_mae: 0.0374\n",
      "\n",
      "Epoch 00048: val_mae did not improve from 0.03682\n",
      "Epoch 49/200\n",
      "557/557 [==============================] - 0s 841us/step - loss: 0.0365 - mae: 0.0365 - val_loss: 0.0370 - val_mae: 0.0370\n",
      "\n",
      "Epoch 00049: val_mae did not improve from 0.03682\n",
      "Epoch 50/200\n",
      "557/557 [==============================] - 0s 810us/step - loss: 0.0367 - mae: 0.0367 - val_loss: 0.0372 - val_mae: 0.0372\n",
      "\n",
      "Epoch 00050: val_mae did not improve from 0.03682\n",
      "Epoch 51/200\n",
      "557/557 [==============================] - 0s 840us/step - loss: 0.0358 - mae: 0.0358 - val_loss: 0.0379 - val_mae: 0.0379\n",
      "\n",
      "Epoch 00051: val_mae did not improve from 0.03682\n",
      "Epoch 52/200\n",
      "557/557 [==============================] - 0s 788us/step - loss: 0.0365 - mae: 0.0365 - val_loss: 0.0372 - val_mae: 0.0372\n",
      "\n",
      "Epoch 00052: val_mae did not improve from 0.03682\n",
      "Epoch 53/200\n",
      "557/557 [==============================] - 0s 735us/step - loss: 0.0363 - mae: 0.0363 - val_loss: 0.0370 - val_mae: 0.0370\n",
      "\n",
      "Epoch 00053: val_mae did not improve from 0.03682\n",
      "Epoch 54/200\n",
      "557/557 [==============================] - 0s 747us/step - loss: 0.0367 - mae: 0.0367 - val_loss: 0.0373 - val_mae: 0.0373\n",
      "\n",
      "Epoch 00054: val_mae did not improve from 0.03682\n",
      "Epoch 55/200\n",
      "557/557 [==============================] - 0s 784us/step - loss: 0.0361 - mae: 0.0361 - val_loss: 0.0373 - val_mae: 0.0373\n",
      "\n",
      "Epoch 00055: val_mae did not improve from 0.03682\n",
      "Epoch 56/200\n",
      "557/557 [==============================] - 0s 757us/step - loss: 0.0358 - mae: 0.0358 - val_loss: 0.0372 - val_mae: 0.0372\n",
      "\n",
      "Epoch 00056: val_mae did not improve from 0.03682\n",
      "Epoch 57/200\n",
      "557/557 [==============================] - 0s 783us/step - loss: 0.0355 - mae: 0.0355 - val_loss: 0.0377 - val_mae: 0.0377\n",
      "\n",
      "Epoch 00057: val_mae did not improve from 0.03682\n",
      "Epoch 58/200\n",
      "557/557 [==============================] - 0s 766us/step - loss: 0.0356 - mae: 0.0356 - val_loss: 0.0374 - val_mae: 0.0374\n",
      "\n",
      "Epoch 00058: val_mae did not improve from 0.03682\n",
      "Epoch 59/200\n",
      "557/557 [==============================] - 0s 780us/step - loss: 0.0357 - mae: 0.0357 - val_loss: 0.0376 - val_mae: 0.0376\n",
      "\n",
      "Epoch 00059: val_mae did not improve from 0.03682\n",
      "Epoch 60/200\n",
      "557/557 [==============================] - 0s 779us/step - loss: 0.0362 - mae: 0.0362 - val_loss: 0.0374 - val_mae: 0.0374\n",
      "\n",
      "Epoch 00060: val_mae did not improve from 0.03682\n",
      "Epoch 61/200\n",
      "557/557 [==============================] - 0s 750us/step - loss: 0.0357 - mae: 0.0357 - val_loss: 0.0369 - val_mae: 0.0369\n",
      "\n",
      "Epoch 00061: val_mae did not improve from 0.03682\n",
      "Epoch 62/200\n",
      "557/557 [==============================] - 0s 800us/step - loss: 0.0360 - mae: 0.0360 - val_loss: 0.0370 - val_mae: 0.0370\n",
      "\n",
      "Epoch 00062: val_mae did not improve from 0.03682\n",
      "Epoch 63/200\n",
      "557/557 [==============================] - 0s 869us/step - loss: 0.0374 - mae: 0.0374 - val_loss: 0.0373 - val_mae: 0.0373\n",
      "\n",
      "Epoch 00063: val_mae did not improve from 0.03682\n",
      "Epoch 64/200\n",
      "557/557 [==============================] - 0s 739us/step - loss: 0.0357 - mae: 0.0357 - val_loss: 0.0372 - val_mae: 0.0372\n",
      "\n",
      "Epoch 00064: val_mae did not improve from 0.03682\n",
      "Epoch 65/200\n",
      "557/557 [==============================] - 0s 818us/step - loss: 0.0358 - mae: 0.0358 - val_loss: 0.0379 - val_mae: 0.0379\n",
      "\n",
      "Epoch 00065: val_mae did not improve from 0.03682\n",
      "Epoch 66/200\n",
      "557/557 [==============================] - 0s 756us/step - loss: 0.0361 - mae: 0.0361 - val_loss: 0.0378 - val_mae: 0.0378\n",
      "\n",
      "Epoch 00066: val_mae did not improve from 0.03682\n",
      "Epoch 67/200\n",
      "557/557 [==============================] - 0s 776us/step - loss: 0.0359 - mae: 0.0359 - val_loss: 0.0374 - val_mae: 0.0374\n",
      "\n",
      "Epoch 00067: val_mae did not improve from 0.03682\n",
      "Epoch 68/200\n",
      "557/557 [==============================] - 0s 783us/step - loss: 0.0355 - mae: 0.0355 - val_loss: 0.0373 - val_mae: 0.0373\n",
      "\n",
      "Epoch 00068: val_mae did not improve from 0.03682\n",
      "Epoch 69/200\n",
      "557/557 [==============================] - 0s 767us/step - loss: 0.0355 - mae: 0.0355 - val_loss: 0.0369 - val_mae: 0.0369\n",
      "\n",
      "Epoch 00069: val_mae did not improve from 0.03682\n",
      "Epoch 70/200\n",
      "557/557 [==============================] - 0s 803us/step - loss: 0.0358 - mae: 0.0358 - val_loss: 0.0378 - val_mae: 0.0378\n",
      "\n",
      "Epoch 00070: val_mae did not improve from 0.03682\n",
      "Epoch 71/200\n",
      "557/557 [==============================] - 0s 789us/step - loss: 0.0361 - mae: 0.0361 - val_loss: 0.0371 - val_mae: 0.0371\n",
      "\n",
      "Epoch 00071: val_mae did not improve from 0.03682\n",
      "Epoch 72/200\n",
      "557/557 [==============================] - 0s 789us/step - loss: 0.0354 - mae: 0.0354 - val_loss: 0.0374 - val_mae: 0.0374\n",
      "\n",
      "Epoch 00072: val_mae did not improve from 0.03682\n",
      "Epoch 73/200\n",
      "557/557 [==============================] - 0s 756us/step - loss: 0.0357 - mae: 0.0357 - val_loss: 0.0369 - val_mae: 0.0369\n",
      "\n",
      "Epoch 00073: val_mae did not improve from 0.03682\n",
      "Epoch 74/200\n",
      "557/557 [==============================] - 0s 777us/step - loss: 0.0349 - mae: 0.0349 - val_loss: 0.0378 - val_mae: 0.0378\n",
      "\n",
      "Epoch 00074: val_mae did not improve from 0.03682\n",
      "Epoch 75/200\n",
      "557/557 [==============================] - 0s 785us/step - loss: 0.0349 - mae: 0.0349 - val_loss: 0.0372 - val_mae: 0.0372\n",
      "\n",
      "Epoch 00075: val_mae did not improve from 0.03682\n",
      "Epoch 76/200\n",
      "557/557 [==============================] - 0s 738us/step - loss: 0.0353 - mae: 0.0353 - val_loss: 0.0376 - val_mae: 0.0376\n",
      "\n",
      "Epoch 00076: val_mae did not improve from 0.03682\n",
      "Epoch 77/200\n",
      "557/557 [==============================] - 0s 765us/step - loss: 0.0351 - mae: 0.0351 - val_loss: 0.0374 - val_mae: 0.0374\n",
      "\n",
      "Epoch 00077: val_mae did not improve from 0.03682\n",
      "Epoch 78/200\n",
      "557/557 [==============================] - 0s 736us/step - loss: 0.0358 - mae: 0.0358 - val_loss: 0.0375 - val_mae: 0.0375\n",
      "\n",
      "Epoch 00078: val_mae did not improve from 0.03682\n",
      "Epoch 79/200\n",
      "557/557 [==============================] - 0s 755us/step - loss: 0.0358 - mae: 0.0358 - val_loss: 0.0378 - val_mae: 0.0378\n",
      "\n",
      "Epoch 00079: val_mae did not improve from 0.03682\n",
      "Epoch 80/200\n",
      "557/557 [==============================] - 0s 781us/step - loss: 0.0357 - mae: 0.0357 - val_loss: 0.0373 - val_mae: 0.0373\n",
      "\n",
      "Epoch 00080: val_mae did not improve from 0.03682\n",
      "Epoch 81/200\n",
      "557/557 [==============================] - 0s 816us/step - loss: 0.0352 - mae: 0.0352 - val_loss: 0.0374 - val_mae: 0.0374\n",
      "\n",
      "Epoch 00081: val_mae did not improve from 0.03682\n",
      "CPU times: user 52.5 s, sys: 10.7 s, total: 1min 3s\n",
      "Wall time: 35.4 s\n"
     ]
    }
   ],
   "source": [
    "%%time\n",
    "history = dnn_model.fit(\n",
    "    train_ps_data, train_labels,\n",
    "    callbacks=callbacks_list,\n",
    "    validation_split=0.1, epochs=200)\n"
   ]
  },
  {
   "cell_type": "code",
   "execution_count": 211,
   "metadata": {},
   "outputs": [],
   "source": [
    "dnn_model.load_weights(best_model_path)\n"
   ]
  },
  {
   "cell_type": "code",
   "execution_count": 212,
   "metadata": {},
   "outputs": [],
   "source": [
    "\n",
    "dnn_model.compile(optimizer=optimizer,\n",
    "                loss='mae',\n",
    "                metrics=['mae'])\n",
    "\n"
   ]
  },
  {
   "cell_type": "code",
   "execution_count": 220,
   "metadata": {},
   "outputs": [],
   "source": [
    "# predictions_DNN = dnn_model.predict(test_ps_data_normalized)\n",
    "predictions_DNN = dnn_model.predict(test_ps_data).flatten()"
   ]
  },
  {
   "cell_type": "code",
   "execution_count": 221,
   "metadata": {},
   "outputs": [
    {
     "name": "stdout",
     "output_type": "stream",
     "text": [
      "Mean Absolute Error: 0.038079\n"
     ]
    }
   ],
   "source": [
    "errors = abs(predictions_DNN - test_labels)# Print out the mean absolute error (mae)\n",
    "print('Mean Absolute Error:', round(np.mean(errors), 6))"
   ]
  },
  {
   "cell_type": "code",
   "execution_count": 222,
   "metadata": {},
   "outputs": [
    {
     "data": {
      "text/plain": [
       "[0.03807925432920456, 0.03807925432920456]"
      ]
     },
     "execution_count": 222,
     "metadata": {},
     "output_type": "execute_result"
    }
   ],
   "source": [
    "# test_results['dnn_model_polling_station_level'] = dnn_model.evaluate(test_features, test_labels, verbose=0)\n",
    "dnn_model.evaluate(test_ps_data, test_labels, verbose=0)\n"
   ]
  },
  {
   "cell_type": "code",
   "execution_count": 223,
   "metadata": {},
   "outputs": [
    {
     "data": {
      "image/png": "[encoded data removed]",
      "text/plain": [
       "<Figure size 432x288 with 1 Axes>"
      ]
     },
     "metadata": {
      "needs_background": "light"
     },
     "output_type": "display_data"
    }
   ],
   "source": [
    "# test_predictions_dnn = dnn_model.predict(test_features).flatten()\n",
    "\n",
    "a = plt.axes(aspect='equal')\n",
    "plt.scatter(test_labels, predictions_DNN)\n",
    "plt.xlabel('True Values [turnout in percent]')\n",
    "plt.ylabel('Predictions [turnout in percent]')\n",
    "lims = [0, 1]\n",
    "plt.xlim(lims)\n",
    "plt.ylim(lims)\n",
    "_ = plt.plot(lims, lims)\n"
   ]
  },
  {
   "cell_type": "code",
   "execution_count": null,
   "metadata": {},
   "outputs": [],
   "source": []
  },
  {
   "cell_type": "code",
   "execution_count": null,
   "metadata": {},
   "outputs": [],
   "source": []
  },
  {
   "cell_type": "code",
   "execution_count": null,
   "metadata": {},
   "outputs": [],
   "source": []
  },
  {
   "cell_type": "markdown",
   "metadata": {},
   "source": [
    "## 2.3 RF"
   ]
  },
  {
   "cell_type": "code",
   "execution_count": 217,
   "metadata": {},
   "outputs": [],
   "source": [
    "from sklearn.ensemble import RandomForestClassifier\n",
    "from sklearn.ensemble import RandomForestRegressor\n",
    "from sklearn.model_selection import cross_val_score\n",
    "from sklearn.model_selection import RepeatedKFold\n",
    "from numpy import mean\n",
    "from numpy import std"
   ]
  },
  {
   "cell_type": "code",
   "execution_count": 219,
   "metadata": {},
   "outputs": [
    {
     "data": {
      "text/plain": [
       "RandomForestRegressor(n_estimators=1000, random_state=42)"
      ]
     },
     "execution_count": 219,
     "metadata": {},
     "output_type": "execute_result"
    }
   ],
   "source": [
    "# Instantiate model with 1000 decision trees\n",
    "rf = RandomForestRegressor(n_estimators = 1000, random_state = 42)# Train the model on training data\n",
    "rf.fit(train_ps_data, train_labels)"
   ]
  },
  {
   "cell_type": "code",
   "execution_count": 225,
   "metadata": {},
   "outputs": [],
   "source": [
    "# Use the forest's predict method on the test data\n",
    "predictions_rf = rf.predict(test_ps_data)# Calculate the absolute errors\n"
   ]
  },
  {
   "cell_type": "code",
   "execution_count": 227,
   "metadata": {},
   "outputs": [
    {
     "name": "stdout",
     "output_type": "stream",
     "text": [
      "Mean Absolute Error: 0.0395\n"
     ]
    }
   ],
   "source": [
    "errors = abs(predictions_rf - test_labels)# Print out the mean absolute error (mae)\n",
    "print('Mean Absolute Error:', round(np.mean(errors), 4))"
   ]
  },
  {
   "cell_type": "code",
   "execution_count": null,
   "metadata": {},
   "outputs": [],
   "source": []
  },
  {
   "cell_type": "markdown",
   "metadata": {},
   "source": [
    "plot predictions"
   ]
  },
  {
   "cell_type": "code",
   "execution_count": 228,
   "metadata": {},
   "outputs": [
    {
     "data": {
      "image/png": "[encoded data removed]",
      "text/plain": [
       "<Figure size 432x288 with 1 Axes>"
      ]
     },
     "metadata": {
      "needs_background": "light"
     },
     "output_type": "display_data"
    }
   ],
   "source": [
    "a = plt.axes(aspect='equal')\n",
    "plt.scatter(test_labels, predictions_rf)\n",
    "plt.xlabel('True Values [turnout in percent]')\n",
    "plt.ylabel('Predictions [turnout in percent]')\n",
    "lims = [0, 1]\n",
    "plt.xlim(lims)\n",
    "plt.ylim(lims)\n",
    "_ = plt.plot(lims, lims)"
   ]
  },
  {
   "cell_type": "code",
   "execution_count": null,
   "metadata": {},
   "outputs": [],
   "source": []
  },
  {
   "cell_type": "code",
   "execution_count": null,
   "metadata": {},
   "outputs": [],
   "source": []
  },
  {
   "cell_type": "markdown",
   "metadata": {},
   "source": [
    "## 2.4 Late Fusion"
   ]
  },
  {
   "cell_type": "markdown",
   "metadata": {},
   "source": [
    "## Images Strand\n"
   ]
  },
  {
   "cell_type": "code",
   "execution_count": 279,
   "metadata": {},
   "outputs": [],
   "source": [
    "# Deep Model\n",
    "\n",
    "inputs_img = keras.Input(shape=(96,96,7))\n",
    "# Conv Block 1\n",
    "x = Conv2D(64, kernel_size=(3,3),padding='same', activation='relu')(inputs_img)\n",
    "x = MaxPooling2D(pool_size=(2, 2))(x)\n",
    "x = BatchNormalization(axis=-1)(x) \n",
    "# Conv Block 2\n",
    "x = Conv2D(128, kernel_size=(3,3),padding='same', activation='relu')(x)\n",
    "x = MaxPooling2D(pool_size=(2, 2))(x)\n",
    "x = BatchNormalization(axis=-1)(x)\n",
    "# x = Conv2D(128, kernel_size=(3,3),padding='same', activation='relu')(x)\n",
    "# x = MaxPooling2D(pool_size=(2, 2))(x)\n",
    "# Conv Block 3\n",
    "x = Conv2D(256, kernel_size=(3,3),padding='same', activation='relu')(x)\n",
    "x = MaxPooling2D(pool_size=(2, 2))(x)\n",
    "x = BatchNormalization(axis=-1)(x)\n",
    "# Conv Block 4\n",
    "x = Conv2D(256, kernel_size=(3,3),padding='same', activation='relu')(x)\n",
    "x = MaxPooling2D(pool_size=(2, 2))(x)\n",
    "x = BatchNormalization(axis=-1)(x)\n",
    "# Conv Block 5\n",
    "x = Conv2D(512, kernel_size=(3,3),padding='same', activation='relu')(x)\n",
    "x = MaxPooling2D(pool_size=(2, 2))(x)\n",
    "x = BatchNormalization(axis=-1)(x)\n",
    "# Flatten and dense\n",
    "x = Flatten()(x)\n",
    "# x = Dense(16)(x)\n",
    "# x = Activation(\"relu\")(x)\n",
    "# x = BatchNormalization(axis=-1)(x)\n",
    "# x = Dropout(0.3)(x)\n",
    "x = Dense(64, activation = 'relu')(x)\n"
   ]
  },
  {
   "cell_type": "markdown",
   "metadata": {},
   "source": [
    "\n",
    "## Data Strand\n"
   ]
  },
  {
   "cell_type": "code",
   "execution_count": 280,
   "metadata": {},
   "outputs": [],
   "source": [
    "inputs_ps_dat = keras.Input(shape=(56,))\n",
    "y = Dense(64, activation=\"relu\")(inputs_ps_dat)\n",
    "y = Dense(64, activation=\"relu\")(y)\n",
    "y = Dense(32, activation=\"linear\")(y)"
   ]
  },
  {
   "cell_type": "markdown",
   "metadata": {},
   "source": [
    "\n",
    "## Join the Strands \n"
   ]
  },
  {
   "cell_type": "code",
   "execution_count": 281,
   "metadata": {},
   "outputs": [],
   "source": [
    "combined_input = concatenate([x, y])"
   ]
  },
  {
   "cell_type": "code",
   "execution_count": 282,
   "metadata": {},
   "outputs": [],
   "source": [
    "z = Dense(128, activation=\"relu\")(combined_input)\n",
    "z = Dropout(0.4)(z)\n",
    "z = Dense(32, activation=\"relu\")(combined_input)\n",
    "z = Dense(1, activation=\"sigmoid\")(z)\n",
    "model = Model(inputs=[inputs_img, inputs_ps_dat], outputs=z)"
   ]
  },
  {
   "cell_type": "code",
   "execution_count": 283,
   "metadata": {},
   "outputs": [
    {
     "name": "stdout",
     "output_type": "stream",
     "text": [
      "Model: \"model\"\n",
      "__________________________________________________________________________________________________\n",
      "Layer (type)                    Output Shape         Param #     Connected to                     \n",
      "==================================================================================================\n",
      "input_1 (InputLayer)            [(None, 96, 96, 7)]  0                                            \n",
      "__________________________________________________________________________________________________\n",
      "conv2d_10 (Conv2D)              (None, 96, 96, 64)   4096        input_1[0][0]                    \n",
      "__________________________________________________________________________________________________\n",
      "max_pooling2d_10 (MaxPooling2D) (None, 48, 48, 64)   0           conv2d_10[0][0]                  \n",
      "__________________________________________________________________________________________________\n",
      "batch_normalization_10 (BatchNo (None, 48, 48, 64)   256         max_pooling2d_10[0][0]           \n",
      "__________________________________________________________________________________________________\n",
      "conv2d_11 (Conv2D)              (None, 48, 48, 128)  73856       batch_normalization_10[0][0]     \n",
      "__________________________________________________________________________________________________\n",
      "max_pooling2d_11 (MaxPooling2D) (None, 24, 24, 128)  0           conv2d_11[0][0]                  \n",
      "__________________________________________________________________________________________________\n",
      "batch_normalization_11 (BatchNo (None, 24, 24, 128)  512         max_pooling2d_11[0][0]           \n",
      "__________________________________________________________________________________________________\n",
      "conv2d_12 (Conv2D)              (None, 24, 24, 256)  295168      batch_normalization_11[0][0]     \n",
      "__________________________________________________________________________________________________\n",
      "max_pooling2d_12 (MaxPooling2D) (None, 12, 12, 256)  0           conv2d_12[0][0]                  \n",
      "__________________________________________________________________________________________________\n",
      "batch_normalization_12 (BatchNo (None, 12, 12, 256)  1024        max_pooling2d_12[0][0]           \n",
      "__________________________________________________________________________________________________\n",
      "conv2d_13 (Conv2D)              (None, 12, 12, 256)  590080      batch_normalization_12[0][0]     \n",
      "__________________________________________________________________________________________________\n",
      "max_pooling2d_13 (MaxPooling2D) (None, 6, 6, 256)    0           conv2d_13[0][0]                  \n",
      "__________________________________________________________________________________________________\n",
      "batch_normalization_13 (BatchNo (None, 6, 6, 256)    1024        max_pooling2d_13[0][0]           \n",
      "__________________________________________________________________________________________________\n",
      "conv2d_14 (Conv2D)              (None, 6, 6, 512)    1180160     batch_normalization_13[0][0]     \n",
      "__________________________________________________________________________________________________\n",
      "max_pooling2d_14 (MaxPooling2D) (None, 3, 3, 512)    0           conv2d_14[0][0]                  \n",
      "__________________________________________________________________________________________________\n",
      "input_2 (InputLayer)            [(None, 56)]         0                                            \n",
      "__________________________________________________________________________________________________\n",
      "batch_normalization_14 (BatchNo (None, 3, 3, 512)    2048        max_pooling2d_14[0][0]           \n",
      "__________________________________________________________________________________________________\n",
      "dense_43 (Dense)                (None, 64)           3648        input_2[0][0]                    \n",
      "__________________________________________________________________________________________________\n",
      "flatten_2 (Flatten)             (None, 4608)         0           batch_normalization_14[0][0]     \n",
      "__________________________________________________________________________________________________\n",
      "dense_44 (Dense)                (None, 64)           4160        dense_43[0][0]                   \n",
      "__________________________________________________________________________________________________\n",
      "dense_42 (Dense)                (None, 64)           294976      flatten_2[0][0]                  \n",
      "__________________________________________________________________________________________________\n",
      "dense_45 (Dense)                (None, 32)           2080        dense_44[0][0]                   \n",
      "__________________________________________________________________________________________________\n",
      "concatenate (Concatenate)       (None, 96)           0           dense_42[0][0]                   \n",
      "                                                                 dense_45[0][0]                   \n",
      "__________________________________________________________________________________________________\n",
      "dense_47 (Dense)                (None, 32)           3104        concatenate[0][0]                \n",
      "__________________________________________________________________________________________________\n",
      "dense_48 (Dense)                (None, 1)            33          dense_47[0][0]                   \n",
      "==================================================================================================\n",
      "Total params: 2,456,225\n",
      "Trainable params: 2,453,793\n",
      "Non-trainable params: 2,432\n",
      "__________________________________________________________________________________________________\n",
      "None\n"
     ]
    }
   ],
   "source": [
    "print(model.summary())\n",
    "# plot_model(model)"
   ]
  },
  {
   "cell_type": "markdown",
   "metadata": {},
   "source": [
    "# Running"
   ]
  },
  {
   "cell_type": "markdown",
   "metadata": {},
   "source": [
    "\n",
    "## Compile\n",
    "\n"
   ]
  },
  {
   "cell_type": "code",
   "execution_count": 284,
   "metadata": {},
   "outputs": [],
   "source": [
    "# set paths\n",
    "best_model_path = '/Users/haui/Dropbox/Academia/Projects/voting_irregularities_local/vi_satellites_dev/code_sandbox_ca/best_models/temp_multi_input.h5'\n",
    "log_dir = 'logs/'"
   ]
  },
  {
   "cell_type": "code",
   "execution_count": null,
   "metadata": {},
   "outputs": [],
   "source": []
  },
  {
   "cell_type": "code",
   "execution_count": 285,
   "metadata": {},
   "outputs": [],
   "source": [
    "# define callbacks\n",
    "# select best models, but with early stopping\n",
    "early_stopper = tf.keras.callbacks.EarlyStopping(monitor='val_mae', patience=10,\n",
    "    mode='min', min_delta=0.0001)\n",
    "# save best model for fit later\n",
    "checkpoint = tf.keras.callbacks.ModelCheckpoint(best_model_path, monitor='val_mae', verbose=1,\n",
    "    save_best_only=True, mode='min')\n",
    "# tensorboard callbacks for debugging\n",
    "tensorboard_callback = tf.keras.callbacks.TensorBoard(log_dir=log_dir, histogram_freq=1)\n",
    "\n",
    "callbacks_list = [early_stopper, checkpoint, tensorboard_callback]\n"
   ]
  },
  {
   "cell_type": "code",
   "execution_count": 286,
   "metadata": {},
   "outputs": [],
   "source": [
    "# from https://www.pyimagesearch.com/2019/02/04/keras-multiple-inputs-and-mixed-data/\n",
    "# opt = Adam(lr=1e-3, decay=1e-3 / 200)\n",
    "opt = Adam()\n",
    "# opt = RMSprop()\n",
    "model.compile(loss='mse',\n",
    "             metrics=['mae'],\n",
    "             optimizer=opt)"
   ]
  },
  {
   "cell_type": "markdown",
   "metadata": {},
   "source": [
    "## Train "
   ]
  },
  {
   "cell_type": "code",
   "execution_count": 287,
   "metadata": {
    "scrolled": true
   },
   "outputs": [
    {
     "name": "stdout",
     "output_type": "stream",
     "text": [
      "Epoch 1/100\n",
      "279/279 [==============================] - 284s 1s/step - loss: 0.0228 - mae: 0.0918 - val_loss: 0.0088 - val_mae: 0.0774\n",
      "\n",
      "Epoch 00001: val_mae improved from inf to 0.07739, saving model to /Users/haui/Dropbox/Academia/Projects/voting_irregularities_local/vi_satellites_dev/code_sandbox_ca/best_models/temp_multi_input.h5\n",
      "Epoch 2/100\n",
      "279/279 [==============================] - 284s 1s/step - loss: 0.0067 - mae: 0.0518 - val_loss: 0.0073 - val_mae: 0.0649\n",
      "\n",
      "Epoch 00002: val_mae improved from 0.07739 to 0.06492, saving model to /Users/haui/Dropbox/Academia/Projects/voting_irregularities_local/vi_satellites_dev/code_sandbox_ca/best_models/temp_multi_input.h5\n",
      "Epoch 3/100\n",
      "279/279 [==============================] - 285s 1s/step - loss: 0.0054 - mae: 0.0466 - val_loss: 0.0036 - val_mae: 0.0402\n",
      "\n",
      "Epoch 00003: val_mae improved from 0.06492 to 0.04017, saving model to /Users/haui/Dropbox/Academia/Projects/voting_irregularities_local/vi_satellites_dev/code_sandbox_ca/best_models/temp_multi_input.h5\n",
      "Epoch 4/100\n",
      "279/279 [==============================] - 288s 1s/step - loss: 0.0043 - mae: 0.0407 - val_loss: 0.0036 - val_mae: 0.0400\n",
      "\n",
      "Epoch 00004: val_mae improved from 0.04017 to 0.04003, saving model to /Users/haui/Dropbox/Academia/Projects/voting_irregularities_local/vi_satellites_dev/code_sandbox_ca/best_models/temp_multi_input.h5\n",
      "Epoch 5/100\n",
      "279/279 [==============================] - 285s 1s/step - loss: 0.0039 - mae: 0.0398 - val_loss: 0.0036 - val_mae: 0.0391\n",
      "\n",
      "Epoch 00005: val_mae improved from 0.04003 to 0.03913, saving model to /Users/haui/Dropbox/Academia/Projects/voting_irregularities_local/vi_satellites_dev/code_sandbox_ca/best_models/temp_multi_input.h5\n",
      "Epoch 6/100\n",
      "279/279 [==============================] - 285s 1s/step - loss: 0.0039 - mae: 0.0399 - val_loss: 0.0036 - val_mae: 0.0397\n",
      "\n",
      "Epoch 00006: val_mae did not improve from 0.03913\n",
      "Epoch 7/100\n",
      "279/279 [==============================] - 287s 1s/step - loss: 0.0043 - mae: 0.0409 - val_loss: 0.0037 - val_mae: 0.0410\n",
      "\n",
      "Epoch 00007: val_mae did not improve from 0.03913\n",
      "Epoch 8/100\n",
      "279/279 [==============================] - 276s 990ms/step - loss: 0.0041 - mae: 0.0404 - val_loss: 0.0035 - val_mae: 0.0383\n",
      "\n",
      "Epoch 00008: val_mae improved from 0.03913 to 0.03835, saving model to /Users/haui/Dropbox/Academia/Projects/voting_irregularities_local/vi_satellites_dev/code_sandbox_ca/best_models/temp_multi_input.h5\n",
      "Epoch 9/100\n",
      "279/279 [==============================] - 281s 1s/step - loss: 0.0041 - mae: 0.0404 - val_loss: 0.0035 - val_mae: 0.0380\n",
      "\n",
      "Epoch 00009: val_mae improved from 0.03835 to 0.03797, saving model to /Users/haui/Dropbox/Academia/Projects/voting_irregularities_local/vi_satellites_dev/code_sandbox_ca/best_models/temp_multi_input.h5\n",
      "Epoch 10/100\n",
      "279/279 [==============================] - 290s 1s/step - loss: 0.0041 - mae: 0.0403 - val_loss: 0.0036 - val_mae: 0.0402\n",
      "\n",
      "Epoch 00010: val_mae did not improve from 0.03797\n",
      "Epoch 11/100\n",
      "279/279 [==============================] - 285s 1s/step - loss: 0.0039 - mae: 0.0400 - val_loss: 0.0035 - val_mae: 0.0387\n",
      "\n",
      "Epoch 00011: val_mae did not improve from 0.03797\n",
      "Epoch 12/100\n",
      "279/279 [==============================] - 288s 1s/step - loss: 0.0040 - mae: 0.0402 - val_loss: 0.0035 - val_mae: 0.0400\n",
      "\n",
      "Epoch 00012: val_mae did not improve from 0.03797\n",
      "Epoch 13/100\n",
      "279/279 [==============================] - 286s 1s/step - loss: 0.0040 - mae: 0.0397 - val_loss: 0.0035 - val_mae: 0.0391\n",
      "\n",
      "Epoch 00013: val_mae did not improve from 0.03797\n",
      "Epoch 14/100\n",
      "279/279 [==============================] - 278s 996ms/step - loss: 0.0039 - mae: 0.0391 - val_loss: 0.0036 - val_mae: 0.0404\n",
      "\n",
      "Epoch 00014: val_mae did not improve from 0.03797\n",
      "Epoch 15/100\n",
      "279/279 [==============================] - 284s 1s/step - loss: 0.0041 - mae: 0.0396 - val_loss: 0.0036 - val_mae: 0.0387\n",
      "\n",
      "Epoch 00015: val_mae did not improve from 0.03797\n",
      "Epoch 16/100\n",
      "279/279 [==============================] - 280s 1s/step - loss: 0.0039 - mae: 0.0394 - val_loss: 0.0035 - val_mae: 0.0381\n",
      "\n",
      "Epoch 00016: val_mae did not improve from 0.03797\n",
      "Epoch 17/100\n",
      "279/279 [==============================] - 282s 1s/step - loss: 0.0041 - mae: 0.0401 - val_loss: 0.0035 - val_mae: 0.0387\n",
      "\n",
      "Epoch 00017: val_mae did not improve from 0.03797\n",
      "Epoch 18/100\n",
      "279/279 [==============================] - 288s 1s/step - loss: 0.0041 - mae: 0.0399 - val_loss: 0.0035 - val_mae: 0.0390\n",
      "\n",
      "Epoch 00018: val_mae did not improve from 0.03797\n",
      "Epoch 19/100\n",
      "279/279 [==============================] - 275s 987ms/step - loss: 0.0039 - mae: 0.0395 - val_loss: 0.0035 - val_mae: 0.0379\n",
      "\n",
      "Epoch 00019: val_mae improved from 0.03797 to 0.03786, saving model to /Users/haui/Dropbox/Academia/Projects/voting_irregularities_local/vi_satellites_dev/code_sandbox_ca/best_models/temp_multi_input.h5\n",
      "Epoch 20/100\n",
      "279/279 [==============================] - 286s 1s/step - loss: 0.0036 - mae: 0.0382 - val_loss: 0.0035 - val_mae: 0.0395\n",
      "\n",
      "Epoch 00020: val_mae did not improve from 0.03786\n",
      "Epoch 21/100\n",
      "279/279 [==============================] - 281s 1s/step - loss: 0.0039 - mae: 0.0393 - val_loss: 0.0036 - val_mae: 0.0390\n",
      "\n",
      "Epoch 00021: val_mae did not improve from 0.03786\n",
      "Epoch 22/100\n",
      "279/279 [==============================] - 289s 1s/step - loss: 0.0039 - mae: 0.0393 - val_loss: 0.0034 - val_mae: 0.0381\n",
      "\n",
      "Epoch 00022: val_mae did not improve from 0.03786\n",
      "Epoch 23/100\n",
      "279/279 [==============================] - 282s 1s/step - loss: 0.0042 - mae: 0.0394 - val_loss: 0.0034 - val_mae: 0.0384\n",
      "\n",
      "Epoch 00023: val_mae did not improve from 0.03786\n",
      "Epoch 24/100\n",
      "279/279 [==============================] - 283s 1s/step - loss: 0.0039 - mae: 0.0393 - val_loss: 0.0034 - val_mae: 0.0381\n",
      "\n",
      "Epoch 00024: val_mae did not improve from 0.03786\n",
      "Epoch 25/100\n",
      "279/279 [==============================] - 291s 1s/step - loss: 0.0040 - mae: 0.0392 - val_loss: 0.0035 - val_mae: 0.0379\n",
      "\n",
      "Epoch 00025: val_mae did not improve from 0.03786\n",
      "Epoch 26/100\n",
      "279/279 [==============================] - 285s 1s/step - loss: 0.0037 - mae: 0.0386 - val_loss: 0.0036 - val_mae: 0.0410\n",
      "\n",
      "Epoch 00026: val_mae did not improve from 0.03786\n",
      "Epoch 27/100\n",
      "279/279 [==============================] - 290s 1s/step - loss: 0.0037 - mae: 0.0389 - val_loss: 0.0035 - val_mae: 0.0386\n",
      "\n",
      "Epoch 00027: val_mae did not improve from 0.03786\n",
      "Epoch 28/100\n",
      "279/279 [==============================] - 279s 1s/step - loss: 0.0037 - mae: 0.0386 - val_loss: 0.0035 - val_mae: 0.0388\n",
      "\n",
      "Epoch 00028: val_mae did not improve from 0.03786\n",
      "Epoch 29/100\n",
      "279/279 [==============================] - 286s 1s/step - loss: 0.0037 - mae: 0.0382 - val_loss: 0.0035 - val_mae: 0.0385\n",
      "\n",
      "Epoch 00029: val_mae did not improve from 0.03786\n"
     ]
    }
   ],
   "source": [
    "history = model.fit(\n",
    "    x=[train_images, train_ps_data_normalized], y=train_labels,\n",
    "    validation_split=0.1, callbacks=callbacks_list,\n",
    "    epochs=100, batch_size=64)"
   ]
  },
  {
   "cell_type": "code",
   "execution_count": 295,
   "metadata": {},
   "outputs": [],
   "source": [
    "model.load_weights(best_model_path)\n"
   ]
  },
  {
   "cell_type": "code",
   "execution_count": 296,
   "metadata": {},
   "outputs": [],
   "source": [
    "\n",
    "model.compile(optimizer=optimizer,\n",
    "                loss='mse',\n",
    "                metrics=['mae'])\n",
    "\n"
   ]
  },
  {
   "cell_type": "code",
   "execution_count": 297,
   "metadata": {},
   "outputs": [],
   "source": [
    "# predictions_DNN = dnn_model.predict(test_ps_data_normalized)\n",
    "predictions_multi_input = model.predict([test_images, normalizer(test_ps_data)]).flatten()"
   ]
  },
  {
   "cell_type": "code",
   "execution_count": 298,
   "metadata": {},
   "outputs": [
    {
     "name": "stdout",
     "output_type": "stream",
     "text": [
      "Mean Absolute Error: 0.038669\n"
     ]
    }
   ],
   "source": [
    "errors = abs(predictions_multi_input - test_labels)# Print out the mean absolute error (mae)\n",
    "print('Mean Absolute Error:', round(np.mean(errors), 6))"
   ]
  },
  {
   "cell_type": "code",
   "execution_count": 299,
   "metadata": {},
   "outputs": [
    {
     "data": {
      "text/plain": [
       "[0.0042108697816729546, 0.038669437170028687]"
      ]
     },
     "execution_count": 299,
     "metadata": {},
     "output_type": "execute_result"
    }
   ],
   "source": [
    "# test_results['dnn_model_polling_station_level'] = dnn_model.evaluate(test_features, test_labels, verbose=0)\n",
    "model.evaluate([test_images, normalizer(test_ps_data)], test_labels, verbose=0)\n"
   ]
  },
  {
   "cell_type": "code",
   "execution_count": 300,
   "metadata": {},
   "outputs": [
    {
     "data": {
      "image/png": "[encoded data removed]",
      "text/plain": [
       "<Figure size 432x288 with 1 Axes>"
      ]
     },
     "metadata": {
      "needs_background": "light"
     },
     "output_type": "display_data"
    }
   ],
   "source": [
    "# test_predictions_dnn = dnn_model.predict(test_features).flatten()\n",
    "\n",
    "a = plt.axes(aspect='equal')\n",
    "plt.scatter(test_labels, predictions_multi_input)\n",
    "plt.xlabel('True Values [turnout in percent]')\n",
    "plt.ylabel('Predictions [turnout in percent]')\n",
    "lims = [0, 1]\n",
    "plt.xlim(lims)\n",
    "plt.ylim(lims)\n",
    "_ = plt.plot(lims, lims)\n"
   ]
  },
  {
   "cell_type": "code",
   "execution_count": null,
   "metadata": {},
   "outputs": [],
   "source": []
  },
  {
   "cell_type": "code",
   "execution_count": null,
   "metadata": {},
   "outputs": [],
   "source": []
  },
  {
   "cell_type": "code",
   "execution_count": null,
   "metadata": {},
   "outputs": [],
   "source": []
  },
  {
   "cell_type": "code",
   "execution_count": null,
   "metadata": {},
   "outputs": [],
   "source": []
  },
  {
   "cell_type": "code",
   "execution_count": null,
   "metadata": {},
   "outputs": [],
   "source": []
  },
  {
   "cell_type": "code",
   "execution_count": null,
   "metadata": {},
   "outputs": [],
   "source": []
  },
  {
   "cell_type": "code",
   "execution_count": null,
   "metadata": {},
   "outputs": [],
   "source": []
  },
  {
   "cell_type": "code",
   "execution_count": null,
   "metadata": {},
   "outputs": [],
   "source": []
  },
  {
   "cell_type": "code",
   "execution_count": null,
   "metadata": {},
   "outputs": [],
   "source": []
  },
  {
   "cell_type": "code",
   "execution_count": null,
   "metadata": {},
   "outputs": [],
   "source": []
  },
  {
   "cell_type": "code",
   "execution_count": null,
   "metadata": {},
   "outputs": [],
   "source": []
  },
  {
   "cell_type": "code",
   "execution_count": null,
   "metadata": {},
   "outputs": [],
   "source": []
  },
  {
   "cell_type": "code",
   "execution_count": null,
   "metadata": {},
   "outputs": [],
   "source": []
  },
  {
   "cell_type": "code",
   "execution_count": null,
   "metadata": {},
   "outputs": [],
   "source": []
  },
  {
   "cell_type": "markdown",
   "metadata": {},
   "source": [
    "# 3 Compare the three"
   ]
  },
  {
   "cell_type": "code",
   "execution_count": 239,
   "metadata": {},
   "outputs": [
    {
     "data": {
      "image/png": "[encoded data removed]",
      "text/plain": [
       "<Figure size 432x288 with 1 Axes>"
      ]
     },
     "metadata": {
      "needs_background": "light"
     },
     "output_type": "display_data"
    }
   ],
   "source": [
    "a = plt.axes(aspect='equal')\n",
    "plt.scatter(predictions_rf, predictions_images)\n",
    "plt.xlabel('True Values [turnout in percent]')\n",
    "plt.ylabel('Predictions [turnout in percent]')\n",
    "lims = [0, 1]\n",
    "plt.xlim(lims)\n",
    "plt.ylim(lims)\n",
    "_ = plt.plot(lims, lims)"
   ]
  },
  {
   "cell_type": "code",
   "execution_count": 242,
   "metadata": {},
   "outputs": [
    {
     "name": "stdout",
     "output_type": "stream",
     "text": [
      "Mean Absolute Error: 0.04003\n"
     ]
    }
   ],
   "source": [
    "errors = abs(predictions_rf - predictions_images)# Print out the mean absolute error (mae)\n",
    "print('Mean Absolute Error:', round(np.mean(errors), 6))"
   ]
  },
  {
   "cell_type": "code",
   "execution_count": 240,
   "metadata": {},
   "outputs": [
    {
     "data": {
      "image/png": "[encoded data removed]",
      "text/plain": [
       "<Figure size 432x288 with 1 Axes>"
      ]
     },
     "metadata": {
      "needs_background": "light"
     },
     "output_type": "display_data"
    }
   ],
   "source": [
    "a = plt.axes(aspect='equal')\n",
    "plt.scatter(predictions_DNN, predictions_images)\n",
    "plt.xlabel('True Values [turnout in percent]')\n",
    "plt.ylabel('Predictions [turnout in percent]')\n",
    "lims = [0, 1]\n",
    "plt.xlim(lims)\n",
    "plt.ylim(lims)\n",
    "_ = plt.plot(lims, lims)"
   ]
  },
  {
   "cell_type": "code",
   "execution_count": 243,
   "metadata": {},
   "outputs": [
    {
     "name": "stdout",
     "output_type": "stream",
     "text": [
      "Mean Absolute Error: 0.036914\n"
     ]
    }
   ],
   "source": [
    "errors = abs(predictions_DNN - predictions_images)# Print out the mean absolute error (mae)\n",
    "print('Mean Absolute Error:', round(np.mean(errors), 6))"
   ]
  },
  {
   "cell_type": "code",
   "execution_count": 244,
   "metadata": {},
   "outputs": [
    {
     "name": "stdout",
     "output_type": "stream",
     "text": [
      "Mean Absolute Error: 0.017256\n"
     ]
    }
   ],
   "source": [
    "errors = abs(predictions_DNN - predictions_rf)# Print out the mean absolute error (mae)\n",
    "print('Mean Absolute Error:', round(np.mean(errors), 6))"
   ]
  },
  {
   "cell_type": "markdown",
   "metadata": {},
   "source": [
    "### Construct Data Frame and correlation matrix"
   ]
  },
  {
   "cell_type": "code",
   "execution_count": 245,
   "metadata": {},
   "outputs": [],
   "source": [
    "import pandas as pd"
   ]
  },
  {
   "cell_type": "code",
   "execution_count": 251,
   "metadata": {},
   "outputs": [
    {
     "ename": "AttributeError",
     "evalue": "'numpy.ndarray' object has no attribute 'type'",
     "output_type": "error",
     "traceback": [
      "\u001b[0;31m---------------------------------------------------------------------------\u001b[0m",
      "\u001b[0;31mAttributeError\u001b[0m                            Traceback (most recent call last)",
      "\u001b[0;32m<ipython-input-251-e5293444a984>\u001b[0m in \u001b[0;36m<module>\u001b[0;34m\u001b[0m\n\u001b[0;32m----> 1\u001b[0;31m \u001b[0mpredictions_rf\u001b[0m\u001b[0;34m.\u001b[0m\u001b[0mtype\u001b[0m\u001b[0;34m\u001b[0m\u001b[0;34m\u001b[0m\u001b[0m\n\u001b[0m",
      "\u001b[0;31mAttributeError\u001b[0m: 'numpy.ndarray' object has no attribute 'type'"
     ]
    }
   ],
   "source": [
    "predictions_rf.type"
   ]
  },
  {
   "cell_type": "code",
   "execution_count": 301,
   "metadata": {},
   "outputs": [],
   "source": [
    "dat_prediction = np.array([test_labels, predictions_images, predictions_DNN, predictions_rf, predictions_multi_input])"
   ]
  },
  {
   "cell_type": "code",
   "execution_count": 302,
   "metadata": {},
   "outputs": [
    {
     "data": {
      "text/plain": [
       "(5, 2200)"
      ]
     },
     "execution_count": 302,
     "metadata": {},
     "output_type": "execute_result"
    }
   ],
   "source": [
    "dat_prediction.shape"
   ]
  },
  {
   "cell_type": "code",
   "execution_count": 309,
   "metadata": {},
   "outputs": [],
   "source": [
    "dat_prediction = pd.DataFrame(np.array([test_labels, predictions_images, predictions_DNN, predictions_multi_input, predictions_rf])).transpose()"
   ]
  },
  {
   "cell_type": "code",
   "execution_count": 310,
   "metadata": {},
   "outputs": [],
   "source": [
    "dat_prediction.columns = ['real_test_data', 'preds_sat_images', 'preds_DNN_micro', 'preds_multi_input', 'preds_RF_micro']"
   ]
  },
  {
   "cell_type": "code",
   "execution_count": 311,
   "metadata": {},
   "outputs": [
    {
     "data": {
      "text/plain": [
       "pandas.core.frame.DataFrame"
      ]
     },
     "execution_count": 311,
     "metadata": {},
     "output_type": "execute_result"
    }
   ],
   "source": [
    "type(dat_prediction)"
   ]
  },
  {
   "cell_type": "code",
   "execution_count": 312,
   "metadata": {},
   "outputs": [
    {
     "data": {
      "text/html": [
       "<div>\n",
       "<style scoped>\n",
       "    .dataframe tbody tr th:only-of-type {\n",
       "        vertical-align: middle;\n",
       "    }\n",
       "\n",
       "    .dataframe tbody tr th {\n",
       "        vertical-align: top;\n",
       "    }\n",
       "\n",
       "    .dataframe thead th {\n",
       "        text-align: right;\n",
       "    }\n",
       "</style>\n",
       "<table border=\"1\" class=\"dataframe\">\n",
       "  <thead>\n",
       "    <tr style=\"text-align: right;\">\n",
       "      <th></th>\n",
       "      <th>real_test_data</th>\n",
       "      <th>preds_sat_images</th>\n",
       "      <th>preds_DNN_micro</th>\n",
       "      <th>preds_multi_input</th>\n",
       "      <th>preds_RF_micro</th>\n",
       "    </tr>\n",
       "  </thead>\n",
       "  <tbody>\n",
       "    <tr>\n",
       "      <th>real_test_data</th>\n",
       "      <td>1.000000</td>\n",
       "      <td>0.438977</td>\n",
       "      <td>0.670978</td>\n",
       "      <td>0.675012</td>\n",
       "      <td>0.663740</td>\n",
       "    </tr>\n",
       "    <tr>\n",
       "      <th>preds_sat_images</th>\n",
       "      <td>0.438977</td>\n",
       "      <td>1.000000</td>\n",
       "      <td>0.587092</td>\n",
       "      <td>0.598317</td>\n",
       "      <td>0.548267</td>\n",
       "    </tr>\n",
       "    <tr>\n",
       "      <th>preds_DNN_micro</th>\n",
       "      <td>0.670978</td>\n",
       "      <td>0.587092</td>\n",
       "      <td>1.000000</td>\n",
       "      <td>0.965288</td>\n",
       "      <td>0.911582</td>\n",
       "    </tr>\n",
       "    <tr>\n",
       "      <th>preds_multi_input</th>\n",
       "      <td>0.675012</td>\n",
       "      <td>0.598317</td>\n",
       "      <td>0.965288</td>\n",
       "      <td>1.000000</td>\n",
       "      <td>0.918234</td>\n",
       "    </tr>\n",
       "    <tr>\n",
       "      <th>preds_RF_micro</th>\n",
       "      <td>0.663740</td>\n",
       "      <td>0.548267</td>\n",
       "      <td>0.911582</td>\n",
       "      <td>0.918234</td>\n",
       "      <td>1.000000</td>\n",
       "    </tr>\n",
       "  </tbody>\n",
       "</table>\n",
       "</div>"
      ],
      "text/plain": [
       "                   real_test_data  preds_sat_images  preds_DNN_micro  \\\n",
       "real_test_data           1.000000          0.438977         0.670978   \n",
       "preds_sat_images         0.438977          1.000000         0.587092   \n",
       "preds_DNN_micro          0.670978          0.587092         1.000000   \n",
       "preds_multi_input        0.675012          0.598317         0.965288   \n",
       "preds_RF_micro           0.663740          0.548267         0.911582   \n",
       "\n",
       "                   preds_multi_input  preds_RF_micro  \n",
       "real_test_data              0.675012        0.663740  \n",
       "preds_sat_images            0.598317        0.548267  \n",
       "preds_DNN_micro             0.965288        0.911582  \n",
       "preds_multi_input           1.000000        0.918234  \n",
       "preds_RF_micro              0.918234        1.000000  "
      ]
     },
     "execution_count": 312,
     "metadata": {},
     "output_type": "execute_result"
    }
   ],
   "source": [
    "dat_prediction.corr()"
   ]
  },
  {
   "cell_type": "code",
   "execution_count": 313,
   "metadata": {},
   "outputs": [],
   "source": [
    "dat_prediction.to_csv('test_data.csv')"
   ]
  },
  {
   "cell_type": "code",
   "execution_count": null,
   "metadata": {},
   "outputs": [],
   "source": []
  }
 ],
 "metadata": {
  "kernelspec": {
   "display_name": "tf2_vi",
   "language": "python",
   "name": "tf2_vi"
  },
  "language_info": {
   "codemirror_mode": {
    "name": "ipython",
    "version": 3
   },
   "file_extension": ".py",
   "mimetype": "text/x-python",
   "name": "python",
   "nbconvert_exporter": "python",
   "pygments_lexer": "ipython3",
   "version": "3.9.4"
  }
 },
 "nbformat": 4,
 "nbformat_minor": 2
}
